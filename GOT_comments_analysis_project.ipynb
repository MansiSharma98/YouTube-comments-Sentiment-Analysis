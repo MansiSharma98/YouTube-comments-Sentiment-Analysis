{
  "nbformat": 4,
  "nbformat_minor": 0,
  "metadata": {
    "colab": {
      "name": "GOT_comments_analysis_project.ipynb",
      "provenance": [],
      "collapsed_sections": [],
      "authorship_tag": "ABX9TyNxFiWiZx/xBOAa0il01f/F",
      "include_colab_link": true
    },
    "kernelspec": {
      "name": "python3",
      "display_name": "Python 3"
    },
    "language_info": {
      "name": "python"
    }
  },
  "cells": [
    {
      "cell_type": "markdown",
      "metadata": {
        "id": "view-in-github",
        "colab_type": "text"
      },
      "source": [
        "<a href=\"https://colab.research.google.com/github/MansiSharma98/YouTube-comments-Sentiment-Analysis/blob/main/GOT_comments_analysis_project.ipynb\" target=\"_parent\"><img src=\"https://colab.research.google.com/assets/colab-badge.svg\" alt=\"Open In Colab\"/></a>"
      ]
    },
    {
      "cell_type": "markdown",
      "source": [
        "# Reading the CSV file we extracted"
      ],
      "metadata": {
        "id": "xU98FhCaioWL"
      }
    },
    {
      "cell_type": "code",
      "source": [
        "import re\n",
        "import pandas as pd\n",
        "pd.set_option('display.max_colwidth', 300)"
      ],
      "metadata": {
        "id": "hrUisrzbiwxU"
      },
      "execution_count": null,
      "outputs": []
    },
    {
      "cell_type": "code",
      "source": [
        "df = pd.read_csv(\"/content/got_comments (2).csv\")"
      ],
      "metadata": {
        "id": "T8lhOB6rhxuC"
      },
      "execution_count": null,
      "outputs": []
    },
    {
      "cell_type": "code",
      "source": [
        "df.drop(\"Unnamed: 0\", axis=1, inplace=True)\n",
        "df.head(5)"
      ],
      "metadata": {
        "colab": {
          "base_uri": "https://localhost:8080/",
          "height": 389
        },
        "id": "6qloWkyeiAft",
        "outputId": "6b1fd7ea-c736-49d9-91ba-59bc1ad33149"
      },
      "execution_count": null,
      "outputs": [
        {
          "output_type": "execute_result",
          "data": {
            "text/html": [
              "\n",
              "  <div id=\"df-4a26332f-1420-4b37-9cd7-c9a047446467\">\n",
              "    <div class=\"colab-df-container\">\n",
              "      <div>\n",
              "<style scoped>\n",
              "    .dataframe tbody tr th:only-of-type {\n",
              "        vertical-align: middle;\n",
              "    }\n",
              "\n",
              "    .dataframe tbody tr th {\n",
              "        vertical-align: top;\n",
              "    }\n",
              "\n",
              "    .dataframe thead th {\n",
              "        text-align: right;\n",
              "    }\n",
              "</style>\n",
              "<table border=\"1\" class=\"dataframe\">\n",
              "  <thead>\n",
              "    <tr style=\"text-align: right;\">\n",
              "      <th></th>\n",
              "      <th>comment</th>\n",
              "      <th>comment_id</th>\n",
              "      <th>author_name</th>\n",
              "      <th>reply_count</th>\n",
              "      <th>like_count</th>\n",
              "      <th>date</th>\n",
              "      <th>total_reply_counts</th>\n",
              "    </tr>\n",
              "  </thead>\n",
              "  <tbody>\n",
              "    <tr>\n",
              "      <th>0</th>\n",
              "      <td>Ur the most optimistic person in the universe and if you're piss Ed it means something</td>\n",
              "      <td>Ugylute2Ab6mA0G2cSF4AaABAg</td>\n",
              "      <td>HJRC_0823</td>\n",
              "      <td>1</td>\n",
              "      <td>0</td>\n",
              "      <td>2022-02-08T07:52:58Z</td>\n",
              "      <td>1</td>\n",
              "    </tr>\n",
              "    <tr>\n",
              "      <th>1</th>\n",
              "      <td>It wasn't just the direction that plot moved, did you also note how the dialog stopped including poetic and thoughtful lines and how Varys and Tyrion's wit and intelligence dropped from magnficant to average dunderhead</td>\n",
              "      <td>UgyU8Y348xtxK5_LlGZ4AaABAg</td>\n",
              "      <td>Furry Lovebear</td>\n",
              "      <td>0</td>\n",
              "      <td>0</td>\n",
              "      <td>2022-01-25T22:23:47Z</td>\n",
              "      <td>0</td>\n",
              "    </tr>\n",
              "    <tr>\n",
              "      <th>2</th>\n",
              "      <td>Lazy writing towards the end.</td>\n",
              "      <td>UgxNEHssvL6RlJ9KQex4AaABAg</td>\n",
              "      <td>Charles Comeaux jr</td>\n",
              "      <td>0</td>\n",
              "      <td>0</td>\n",
              "      <td>2022-01-18T23:32:29Z</td>\n",
              "      <td>0</td>\n",
              "    </tr>\n",
              "    <tr>\n",
              "      <th>3</th>\n",
              "      <td>Cool</td>\n",
              "      <td>Ugy638KYY2rLNdovh2V4AaABAg</td>\n",
              "      <td>Beavis Johnson</td>\n",
              "      <td>0</td>\n",
              "      <td>0</td>\n",
              "      <td>2022-01-12T05:51:08Z</td>\n",
              "      <td>0</td>\n",
              "    </tr>\n",
              "    <tr>\n",
              "      <th>4</th>\n",
              "      <td>The night king vs people was the main plot point they just never wanted to address it. Was the first scene in the show and the last in every season</td>\n",
              "      <td>UgzJeAc28XQ3jCENR9B4AaABAg</td>\n",
              "      <td>Luke Coupland</td>\n",
              "      <td>0</td>\n",
              "      <td>0</td>\n",
              "      <td>2022-01-08T02:09:21Z</td>\n",
              "      <td>0</td>\n",
              "    </tr>\n",
              "  </tbody>\n",
              "</table>\n",
              "</div>\n",
              "      <button class=\"colab-df-convert\" onclick=\"convertToInteractive('df-4a26332f-1420-4b37-9cd7-c9a047446467')\"\n",
              "              title=\"Convert this dataframe to an interactive table.\"\n",
              "              style=\"display:none;\">\n",
              "        \n",
              "  <svg xmlns=\"http://www.w3.org/2000/svg\" height=\"24px\"viewBox=\"0 0 24 24\"\n",
              "       width=\"24px\">\n",
              "    <path d=\"M0 0h24v24H0V0z\" fill=\"none\"/>\n",
              "    <path d=\"M18.56 5.44l.94 2.06.94-2.06 2.06-.94-2.06-.94-.94-2.06-.94 2.06-2.06.94zm-11 1L8.5 8.5l.94-2.06 2.06-.94-2.06-.94L8.5 2.5l-.94 2.06-2.06.94zm10 10l.94 2.06.94-2.06 2.06-.94-2.06-.94-.94-2.06-.94 2.06-2.06.94z\"/><path d=\"M17.41 7.96l-1.37-1.37c-.4-.4-.92-.59-1.43-.59-.52 0-1.04.2-1.43.59L10.3 9.45l-7.72 7.72c-.78.78-.78 2.05 0 2.83L4 21.41c.39.39.9.59 1.41.59.51 0 1.02-.2 1.41-.59l7.78-7.78 2.81-2.81c.8-.78.8-2.07 0-2.86zM5.41 20L4 18.59l7.72-7.72 1.47 1.35L5.41 20z\"/>\n",
              "  </svg>\n",
              "      </button>\n",
              "      \n",
              "  <style>\n",
              "    .colab-df-container {\n",
              "      display:flex;\n",
              "      flex-wrap:wrap;\n",
              "      gap: 12px;\n",
              "    }\n",
              "\n",
              "    .colab-df-convert {\n",
              "      background-color: #E8F0FE;\n",
              "      border: none;\n",
              "      border-radius: 50%;\n",
              "      cursor: pointer;\n",
              "      display: none;\n",
              "      fill: #1967D2;\n",
              "      height: 32px;\n",
              "      padding: 0 0 0 0;\n",
              "      width: 32px;\n",
              "    }\n",
              "\n",
              "    .colab-df-convert:hover {\n",
              "      background-color: #E2EBFA;\n",
              "      box-shadow: 0px 1px 2px rgba(60, 64, 67, 0.3), 0px 1px 3px 1px rgba(60, 64, 67, 0.15);\n",
              "      fill: #174EA6;\n",
              "    }\n",
              "\n",
              "    [theme=dark] .colab-df-convert {\n",
              "      background-color: #3B4455;\n",
              "      fill: #D2E3FC;\n",
              "    }\n",
              "\n",
              "    [theme=dark] .colab-df-convert:hover {\n",
              "      background-color: #434B5C;\n",
              "      box-shadow: 0px 1px 3px 1px rgba(0, 0, 0, 0.15);\n",
              "      filter: drop-shadow(0px 1px 2px rgba(0, 0, 0, 0.3));\n",
              "      fill: #FFFFFF;\n",
              "    }\n",
              "  </style>\n",
              "\n",
              "      <script>\n",
              "        const buttonEl =\n",
              "          document.querySelector('#df-4a26332f-1420-4b37-9cd7-c9a047446467 button.colab-df-convert');\n",
              "        buttonEl.style.display =\n",
              "          google.colab.kernel.accessAllowed ? 'block' : 'none';\n",
              "\n",
              "        async function convertToInteractive(key) {\n",
              "          const element = document.querySelector('#df-4a26332f-1420-4b37-9cd7-c9a047446467');\n",
              "          const dataTable =\n",
              "            await google.colab.kernel.invokeFunction('convertToInteractive',\n",
              "                                                     [key], {});\n",
              "          if (!dataTable) return;\n",
              "\n",
              "          const docLinkHtml = 'Like what you see? Visit the ' +\n",
              "            '<a target=\"_blank\" href=https://colab.research.google.com/notebooks/data_table.ipynb>data table notebook</a>'\n",
              "            + ' to learn more about interactive tables.';\n",
              "          element.innerHTML = '';\n",
              "          dataTable['output_type'] = 'display_data';\n",
              "          await google.colab.output.renderOutput(dataTable, element);\n",
              "          const docLink = document.createElement('div');\n",
              "          docLink.innerHTML = docLinkHtml;\n",
              "          element.appendChild(docLink);\n",
              "        }\n",
              "      </script>\n",
              "    </div>\n",
              "  </div>\n",
              "  "
            ],
            "text/plain": [
              "                                                                                                                                                                                                                      comment  ... total_reply_counts\n",
              "0                                                                                                                                      Ur the most optimistic person in the universe and if you're piss Ed it means something  ...                  1\n",
              "1  It wasn't just the direction that plot moved, did you also note how the dialog stopped including poetic and thoughtful lines and how Varys and Tyrion's wit and intelligence dropped from magnficant to average dunderhead  ...                  0\n",
              "2                                                                                                                                                                                               Lazy writing towards the end.  ...                  0\n",
              "3                                                                                                                                                                                                                        Cool  ...                  0\n",
              "4                                                                         The night king vs people was the main plot point they just never wanted to address it. Was the first scene in the show and the last in every season  ...                  0\n",
              "\n",
              "[5 rows x 7 columns]"
            ]
          },
          "metadata": {},
          "execution_count": 130
        }
      ]
    },
    {
      "cell_type": "code",
      "source": [
        "df.shape"
      ],
      "metadata": {
        "colab": {
          "base_uri": "https://localhost:8080/"
        },
        "id": "IsDZYMsliWYn",
        "outputId": "314d6029-62c5-4eeb-c5c0-79a048801014"
      },
      "execution_count": null,
      "outputs": [
        {
          "output_type": "execute_result",
          "data": {
            "text/plain": [
              "(100, 8)"
            ]
          },
          "metadata": {},
          "execution_count": 86
        }
      ]
    },
    {
      "cell_type": "markdown",
      "source": [
        "# Basic features"
      ],
      "metadata": {
        "id": "LS8x43Y4Ag7Z"
      }
    },
    {
      "cell_type": "code",
      "source": [
        "#checking how date looks like\n",
        "df['date'][1]"
      ],
      "metadata": {
        "colab": {
          "base_uri": "https://localhost:8080/",
          "height": 35
        },
        "id": "7yhpL_pVAklQ",
        "outputId": "f4900087-f6ea-4486-9e5c-b23807d3bf47"
      },
      "execution_count": null,
      "outputs": [
        {
          "output_type": "execute_result",
          "data": {
            "application/vnd.google.colaboratory.intrinsic+json": {
              "type": "string"
            },
            "text/plain": [
              "'2022-01-25T22:23:47Z'"
            ]
          },
          "metadata": {},
          "execution_count": 10
        }
      ]
    },
    {
      "cell_type": "code",
      "source": [
        "#defining pattern to remove the latter part\n",
        "pattern = re.compile(r'T[A-Z0-9:]+')"
      ],
      "metadata": {
        "id": "CEuFoZElA5JD"
      },
      "execution_count": null,
      "outputs": []
    },
    {
      "cell_type": "code",
      "source": [
        "#checking if the pattern works\n",
        "res = pattern.findall(df['date'][1])\n",
        "res"
      ],
      "metadata": {
        "colab": {
          "base_uri": "https://localhost:8080/"
        },
        "id": "CjTGeNroBWQ3",
        "outputId": "5af9f173-59a5-4e97-e3cc-e619b5324cc8"
      },
      "execution_count": null,
      "outputs": [
        {
          "output_type": "execute_result",
          "data": {
            "text/plain": [
              "['T22:23:47Z']"
            ]
          },
          "metadata": {},
          "execution_count": 15
        }
      ]
    },
    {
      "cell_type": "code",
      "source": [
        "#function for removing pattern\n",
        "def clean_date(x):\n",
        "  a = re.sub(pattern, '',x)\n",
        "  return  a.strip()"
      ],
      "metadata": {
        "id": "PIW0p3LvBy_n"
      },
      "execution_count": null,
      "outputs": []
    },
    {
      "cell_type": "code",
      "source": [
        "df['date'] = df['date'].apply(lambda x: clean_date(x))\n",
        "df.head(5)"
      ],
      "metadata": {
        "colab": {
          "base_uri": "https://localhost:8080/",
          "height": 354
        },
        "id": "_c7wpF13B-rS",
        "outputId": "7d3f329d-1f00-4650-8a64-24ccee402370"
      },
      "execution_count": null,
      "outputs": [
        {
          "output_type": "execute_result",
          "data": {
            "text/html": [
              "\n",
              "  <div id=\"df-5a40ee2f-d8ea-49f3-8e56-fdb04c133c8d\">\n",
              "    <div class=\"colab-df-container\">\n",
              "      <div>\n",
              "<style scoped>\n",
              "    .dataframe tbody tr th:only-of-type {\n",
              "        vertical-align: middle;\n",
              "    }\n",
              "\n",
              "    .dataframe tbody tr th {\n",
              "        vertical-align: top;\n",
              "    }\n",
              "\n",
              "    .dataframe thead th {\n",
              "        text-align: right;\n",
              "    }\n",
              "</style>\n",
              "<table border=\"1\" class=\"dataframe\">\n",
              "  <thead>\n",
              "    <tr style=\"text-align: right;\">\n",
              "      <th></th>\n",
              "      <th>comment</th>\n",
              "      <th>comment_id</th>\n",
              "      <th>author_name</th>\n",
              "      <th>reply_count</th>\n",
              "      <th>like_count</th>\n",
              "      <th>date</th>\n",
              "      <th>total_reply_counts</th>\n",
              "    </tr>\n",
              "  </thead>\n",
              "  <tbody>\n",
              "    <tr>\n",
              "      <th>0</th>\n",
              "      <td>Ur the most optimistic person in the universe and if you're piss Ed it means something</td>\n",
              "      <td>Ugylute2Ab6mA0G2cSF4AaABAg</td>\n",
              "      <td>HJRC_0823</td>\n",
              "      <td>1</td>\n",
              "      <td>0</td>\n",
              "      <td>2022-02-08</td>\n",
              "      <td>1</td>\n",
              "    </tr>\n",
              "    <tr>\n",
              "      <th>1</th>\n",
              "      <td>It wasn't just the direction that plot moved, did you also note how the dialog stopped including poetic and thoughtful lines and how Varys and Tyrion's wit and intelligence dropped from magnficant to average dunderhead</td>\n",
              "      <td>UgyU8Y348xtxK5_LlGZ4AaABAg</td>\n",
              "      <td>Furry Lovebear</td>\n",
              "      <td>0</td>\n",
              "      <td>0</td>\n",
              "      <td>2022-01-25</td>\n",
              "      <td>0</td>\n",
              "    </tr>\n",
              "    <tr>\n",
              "      <th>2</th>\n",
              "      <td>Lazy writing towards the end.</td>\n",
              "      <td>UgxNEHssvL6RlJ9KQex4AaABAg</td>\n",
              "      <td>Charles Comeaux jr</td>\n",
              "      <td>0</td>\n",
              "      <td>0</td>\n",
              "      <td>2022-01-18</td>\n",
              "      <td>0</td>\n",
              "    </tr>\n",
              "    <tr>\n",
              "      <th>3</th>\n",
              "      <td>Cool</td>\n",
              "      <td>Ugy638KYY2rLNdovh2V4AaABAg</td>\n",
              "      <td>Beavis Johnson</td>\n",
              "      <td>0</td>\n",
              "      <td>0</td>\n",
              "      <td>2022-01-12</td>\n",
              "      <td>0</td>\n",
              "    </tr>\n",
              "    <tr>\n",
              "      <th>4</th>\n",
              "      <td>The night king vs people was the main plot point they just never wanted to address it. Was the first scene in the show and the last in every season</td>\n",
              "      <td>UgzJeAc28XQ3jCENR9B4AaABAg</td>\n",
              "      <td>Luke Coupland</td>\n",
              "      <td>0</td>\n",
              "      <td>0</td>\n",
              "      <td>2022-01-08</td>\n",
              "      <td>0</td>\n",
              "    </tr>\n",
              "  </tbody>\n",
              "</table>\n",
              "</div>\n",
              "      <button class=\"colab-df-convert\" onclick=\"convertToInteractive('df-5a40ee2f-d8ea-49f3-8e56-fdb04c133c8d')\"\n",
              "              title=\"Convert this dataframe to an interactive table.\"\n",
              "              style=\"display:none;\">\n",
              "        \n",
              "  <svg xmlns=\"http://www.w3.org/2000/svg\" height=\"24px\"viewBox=\"0 0 24 24\"\n",
              "       width=\"24px\">\n",
              "    <path d=\"M0 0h24v24H0V0z\" fill=\"none\"/>\n",
              "    <path d=\"M18.56 5.44l.94 2.06.94-2.06 2.06-.94-2.06-.94-.94-2.06-.94 2.06-2.06.94zm-11 1L8.5 8.5l.94-2.06 2.06-.94-2.06-.94L8.5 2.5l-.94 2.06-2.06.94zm10 10l.94 2.06.94-2.06 2.06-.94-2.06-.94-.94-2.06-.94 2.06-2.06.94z\"/><path d=\"M17.41 7.96l-1.37-1.37c-.4-.4-.92-.59-1.43-.59-.52 0-1.04.2-1.43.59L10.3 9.45l-7.72 7.72c-.78.78-.78 2.05 0 2.83L4 21.41c.39.39.9.59 1.41.59.51 0 1.02-.2 1.41-.59l7.78-7.78 2.81-2.81c.8-.78.8-2.07 0-2.86zM5.41 20L4 18.59l7.72-7.72 1.47 1.35L5.41 20z\"/>\n",
              "  </svg>\n",
              "      </button>\n",
              "      \n",
              "  <style>\n",
              "    .colab-df-container {\n",
              "      display:flex;\n",
              "      flex-wrap:wrap;\n",
              "      gap: 12px;\n",
              "    }\n",
              "\n",
              "    .colab-df-convert {\n",
              "      background-color: #E8F0FE;\n",
              "      border: none;\n",
              "      border-radius: 50%;\n",
              "      cursor: pointer;\n",
              "      display: none;\n",
              "      fill: #1967D2;\n",
              "      height: 32px;\n",
              "      padding: 0 0 0 0;\n",
              "      width: 32px;\n",
              "    }\n",
              "\n",
              "    .colab-df-convert:hover {\n",
              "      background-color: #E2EBFA;\n",
              "      box-shadow: 0px 1px 2px rgba(60, 64, 67, 0.3), 0px 1px 3px 1px rgba(60, 64, 67, 0.15);\n",
              "      fill: #174EA6;\n",
              "    }\n",
              "\n",
              "    [theme=dark] .colab-df-convert {\n",
              "      background-color: #3B4455;\n",
              "      fill: #D2E3FC;\n",
              "    }\n",
              "\n",
              "    [theme=dark] .colab-df-convert:hover {\n",
              "      background-color: #434B5C;\n",
              "      box-shadow: 0px 1px 3px 1px rgba(0, 0, 0, 0.15);\n",
              "      filter: drop-shadow(0px 1px 2px rgba(0, 0, 0, 0.3));\n",
              "      fill: #FFFFFF;\n",
              "    }\n",
              "  </style>\n",
              "\n",
              "      <script>\n",
              "        const buttonEl =\n",
              "          document.querySelector('#df-5a40ee2f-d8ea-49f3-8e56-fdb04c133c8d button.colab-df-convert');\n",
              "        buttonEl.style.display =\n",
              "          google.colab.kernel.accessAllowed ? 'block' : 'none';\n",
              "\n",
              "        async function convertToInteractive(key) {\n",
              "          const element = document.querySelector('#df-5a40ee2f-d8ea-49f3-8e56-fdb04c133c8d');\n",
              "          const dataTable =\n",
              "            await google.colab.kernel.invokeFunction('convertToInteractive',\n",
              "                                                     [key], {});\n",
              "          if (!dataTable) return;\n",
              "\n",
              "          const docLinkHtml = 'Like what you see? Visit the ' +\n",
              "            '<a target=\"_blank\" href=https://colab.research.google.com/notebooks/data_table.ipynb>data table notebook</a>'\n",
              "            + ' to learn more about interactive tables.';\n",
              "          element.innerHTML = '';\n",
              "          dataTable['output_type'] = 'display_data';\n",
              "          await google.colab.output.renderOutput(dataTable, element);\n",
              "          const docLink = document.createElement('div');\n",
              "          docLink.innerHTML = docLinkHtml;\n",
              "          element.appendChild(docLink);\n",
              "        }\n",
              "      </script>\n",
              "    </div>\n",
              "  </div>\n",
              "  "
            ],
            "text/plain": [
              "                                                                                                                                                                                                                      comment  ... total_reply_counts\n",
              "0                                                                                                                                      Ur the most optimistic person in the universe and if you're piss Ed it means something  ...                  1\n",
              "1  It wasn't just the direction that plot moved, did you also note how the dialog stopped including poetic and thoughtful lines and how Varys and Tyrion's wit and intelligence dropped from magnficant to average dunderhead  ...                  0\n",
              "2                                                                                                                                                                                               Lazy writing towards the end.  ...                  0\n",
              "3                                                                                                                                                                                                                        Cool  ...                  0\n",
              "4                                                                         The night king vs people was the main plot point they just never wanted to address it. Was the first scene in the show and the last in every season  ...                  0\n",
              "\n",
              "[5 rows x 7 columns]"
            ]
          },
          "metadata": {},
          "execution_count": 6
        }
      ]
    },
    {
      "cell_type": "markdown",
      "source": [
        "#Preprocessing the youtube comments"
      ],
      "metadata": {
        "id": "dw5Xz-XGiiTb"
      }
    },
    {
      "cell_type": "code",
      "source": [
        "import numpy as np\n",
        "import nltk\n",
        "import spacy\n",
        "nlp=spacy.load('en_core_web_sm',disable=[\"tagger\", \"parser\",\"ner\"])\n",
        "!pip install contractions\n",
        "import contractions\n",
        "!pip install emoji --upgrade\n",
        "import emoji\n",
        "import matplotlib.pyplot as plt\n",
        "import warnings\n",
        "#from emoji import UNICODE_EMOJI"
      ],
      "metadata": {
        "colab": {
          "base_uri": "https://localhost:8080/"
        },
        "id": "qi-OKmLPBVeV",
        "outputId": "5a027647-d93d-48bd-e6df-3dc6b5884b5c"
      },
      "execution_count": null,
      "outputs": [
        {
          "output_type": "stream",
          "name": "stdout",
          "text": [
            "Requirement already satisfied: contractions in /usr/local/lib/python3.7/dist-packages (0.1.66)\n",
            "Requirement already satisfied: textsearch>=0.0.21 in /usr/local/lib/python3.7/dist-packages (from contractions) (0.0.21)\n",
            "Requirement already satisfied: pyahocorasick in /usr/local/lib/python3.7/dist-packages (from textsearch>=0.0.21->contractions) (1.4.2)\n",
            "Requirement already satisfied: anyascii in /usr/local/lib/python3.7/dist-packages (from textsearch>=0.0.21->contractions) (0.3.0)\n",
            "Requirement already satisfied: emoji in /usr/local/lib/python3.7/dist-packages (1.6.3)\n"
          ]
        }
      ]
    },
    {
      "cell_type": "code",
      "source": [
        "all_words = []\n",
        "for line in list(df['comment']):\n",
        "    words = line.split()\n",
        "    for word in words:\n",
        "        all_words.append(word)\n",
        "        \n",
        "plt.figure(figsize=(12,5))\n",
        "plt.title('Top 25 most common words')\n",
        "plt.xticks(fontsize=13, rotation=90)\n",
        "fd = nltk.FreqDist(all_words)\n",
        "fd.plot(25,cumulative=False) "
      ],
      "metadata": {
        "colab": {
          "base_uri": "https://localhost:8080/",
          "height": 385
        },
        "id": "Rq6S0iTRGXhN",
        "outputId": "63aec34b-5ed3-4268-e9c4-dcd0f2ceaca4"
      },
      "execution_count": null,
      "outputs": [
        {
          "output_type": "display_data",
          "data": {
            "image/png": "[encoded data removed]",
            "text/plain": [
              "<Figure size 864x360 with 1 Axes>"
            ]
          },
          "metadata": {
            "needs_background": "light"
          }
        }
      ]
    },
    {
      "cell_type": "code",
      "source": [
        "nltk.download('wordnet')\n",
        "lemmatizer = nltk.WordNetLemmatizer()"
      ],
      "metadata": {
        "colab": {
          "base_uri": "https://localhost:8080/"
        },
        "id": "PcabMJYtRAWr",
        "outputId": "fe2bb2f9-5204-4c42-b224-0fcd1bc79794"
      },
      "execution_count": null,
      "outputs": [
        {
          "output_type": "stream",
          "name": "stdout",
          "text": [
            "[nltk_data] Downloading package wordnet to /root/nltk_data...\n",
            "[nltk_data]   Unzipping corpora/wordnet.zip.\n"
          ]
        }
      ]
    },
    {
      "cell_type": "code",
      "source": [
        "#from nltk.corpus import stopwords\n",
        "#stop_words = set(stopwords.words('english'))\n",
        "\n",
        "#import nltk\n",
        "#nltk.download('stopwords')\n",
        "#stop_words = set(stopwords.words('english'))"
      ],
      "metadata": {
        "id": "CD2t1zjzVpTP"
      },
      "execution_count": null,
      "outputs": []
    },
    {
      "cell_type": "code",
      "source": [
        "doc=nlp(contractions.fix(\"How long did it take Chris to watch the show? I don’t think he said\"))                                                           # creating doc object\n",
        "tokens=[token.lemma_ for token in doc if(token.is_stop==False)] \n",
        "\" \".join(tokens) "
      ],
      "metadata": {
        "colab": {
          "base_uri": "https://localhost:8080/",
          "height": 35
        },
        "id": "AcjmsHhh8TtD",
        "outputId": "926dfe96-eb7d-42d2-964a-aae2c36af1f9"
      },
      "execution_count": null,
      "outputs": [
        {
          "output_type": "execute_result",
          "data": {
            "application/vnd.google.colaboratory.intrinsic+json": {
              "type": "string"
            },
            "text/plain": [
              "'long Chris watch ? think say'"
            ]
          },
          "metadata": {},
          "execution_count": 67
        }
      ]
    },
    {
      "cell_type": "code",
      "source": [
        "contractions.fix(\"How long did it take Chris to watch the show? I don’t think he said\") "
      ],
      "metadata": {
        "colab": {
          "base_uri": "https://localhost:8080/",
          "height": 35
        },
        "id": "kehOc3XN7814",
        "outputId": "91f816e3-c870-4ba8-81fe-e570893c244e"
      },
      "execution_count": null,
      "outputs": [
        {
          "output_type": "execute_result",
          "data": {
            "application/vnd.google.colaboratory.intrinsic+json": {
              "type": "string"
            },
            "text/plain": [
              "'How long did it take Chris to watch the show? I do not think he said'"
            ]
          },
          "metadata": {},
          "execution_count": 66
        }
      ]
    },
    {
      "cell_type": "code",
      "source": [
        "def cleaner(x):\n",
        "  x = emoji.demojize(x)\n",
        "  x = re.sub(r'http\\S+', '', x)                                 #remove URLs\n",
        "  x = re.sub(r'[!?\"%$#@&_)(]', ' ', x)                         # remove special characters\n",
        "  x = re.sub(r'[.,:;]', '', x)                                #remove punctuation marks\n",
        "  x = re.sub(r'@[A-Za-z0-9]+', '',x)                            #removing mentions\n",
        "  x  = x.lower()                                            #lowercase\n",
        "  x = re.sub(\"'s\\w\",\"\",x)                                   #removing 's\n",
        "  #x = re.sub(\"[^a-z]+\", \" \", x)                               # fetch only words\n",
        "  x = re.sub(\"[\\s]+\",\" \",x)                                         # removing extra spaces\n",
        "  x = contractions.fix(x)                                           #replacing contractions\n",
        "  doc=nlp(x)                                                           # creating doc object\n",
        "  tokens=[token.lemma_ for token in doc if(token.is_stop==False)]      # remove stopwords and lemmatize the text\n",
        "  return \" \".join(tokens)                                               #join tokens by space\n",
        "  \n",
        "  \n",
        "\n",
        "\n",
        "\n",
        "  #tokens = [w for w in x.split() if not w in stop_words] #stopwords removal\n",
        "  #newx = ''\n",
        "  #for i in tokens:\n",
        "    #newx = newx+lemmatizer.lemmatize(i)+' '\n",
        "  #return newx.strip()"
      ],
      "metadata": {
        "id": "JmJ4nbLkihKb"
      },
      "execution_count": null,
      "outputs": []
    },
    {
      "cell_type": "code",
      "source": [
        "df['clean_comment'] = df['comment'].apply(lambda x: cleaner(x))\n",
        "df.head(100)"
      ],
      "metadata": {
        "colab": {
          "base_uri": "https://localhost:8080/",
          "height": 1000
        },
        "id": "B5U-6kjijdCO",
        "outputId": "32e55f1c-5391-4876-b413-76fb2a966bc5"
      },
      "execution_count": null,
      "outputs": [
        {
          "output_type": "execute_result",
          "data": {
            "text/html": [
              "\n",
              "  <div id=\"df-e306cce8-40b4-4029-811f-312078ec9501\">\n",
              "    <div class=\"colab-df-container\">\n",
              "      <div>\n",
              "<style scoped>\n",
              "    .dataframe tbody tr th:only-of-type {\n",
              "        vertical-align: middle;\n",
              "    }\n",
              "\n",
              "    .dataframe tbody tr th {\n",
              "        vertical-align: top;\n",
              "    }\n",
              "\n",
              "    .dataframe thead th {\n",
              "        text-align: right;\n",
              "    }\n",
              "</style>\n",
              "<table border=\"1\" class=\"dataframe\">\n",
              "  <thead>\n",
              "    <tr style=\"text-align: right;\">\n",
              "      <th></th>\n",
              "      <th>comment</th>\n",
              "      <th>comment_id</th>\n",
              "      <th>author_name</th>\n",
              "      <th>reply_count</th>\n",
              "      <th>like_count</th>\n",
              "      <th>date</th>\n",
              "      <th>total_reply_counts</th>\n",
              "      <th>clean_comment</th>\n",
              "    </tr>\n",
              "  </thead>\n",
              "  <tbody>\n",
              "    <tr>\n",
              "      <th>0</th>\n",
              "      <td>Ur the most optimistic person in the universe and if you're piss Ed it means something</td>\n",
              "      <td>Ugylute2Ab6mA0G2cSF4AaABAg</td>\n",
              "      <td>HJRC_0823</td>\n",
              "      <td>1</td>\n",
              "      <td>0</td>\n",
              "      <td>2022-02-08T07:52:58Z</td>\n",
              "      <td>1</td>\n",
              "      <td>ur optimistic person universe piss ed mean</td>\n",
              "    </tr>\n",
              "    <tr>\n",
              "      <th>1</th>\n",
              "      <td>It wasn't just the direction that plot moved, did you also note how the dialog stopped including poetic and thoughtful lines and how Varys and Tyrion's wit and intelligence dropped from magnficant to average dunderhead</td>\n",
              "      <td>UgyU8Y348xtxK5_LlGZ4AaABAg</td>\n",
              "      <td>Furry Lovebear</td>\n",
              "      <td>0</td>\n",
              "      <td>0</td>\n",
              "      <td>2022-01-25T22:23:47Z</td>\n",
              "      <td>0</td>\n",
              "      <td>direction plot move note dialog stop include poetic thoughtful line varys tyrion wit intelligence drop magnficant average dunderhead</td>\n",
              "    </tr>\n",
              "    <tr>\n",
              "      <th>2</th>\n",
              "      <td>Lazy writing towards the end.</td>\n",
              "      <td>UgxNEHssvL6RlJ9KQex4AaABAg</td>\n",
              "      <td>Charles Comeaux jr</td>\n",
              "      <td>0</td>\n",
              "      <td>0</td>\n",
              "      <td>2022-01-18T23:32:29Z</td>\n",
              "      <td>0</td>\n",
              "      <td>lazy write end</td>\n",
              "    </tr>\n",
              "    <tr>\n",
              "      <th>3</th>\n",
              "      <td>Cool</td>\n",
              "      <td>Ugy638KYY2rLNdovh2V4AaABAg</td>\n",
              "      <td>Beavis Johnson</td>\n",
              "      <td>0</td>\n",
              "      <td>0</td>\n",
              "      <td>2022-01-12T05:51:08Z</td>\n",
              "      <td>0</td>\n",
              "      <td>cool</td>\n",
              "    </tr>\n",
              "    <tr>\n",
              "      <th>4</th>\n",
              "      <td>The night king vs people was the main plot point they just never wanted to address it. Was the first scene in the show and the last in every season</td>\n",
              "      <td>UgzJeAc28XQ3jCENR9B4AaABAg</td>\n",
              "      <td>Luke Coupland</td>\n",
              "      <td>0</td>\n",
              "      <td>0</td>\n",
              "      <td>2022-01-08T02:09:21Z</td>\n",
              "      <td>0</td>\n",
              "      <td>night king vs people main plot point want address scene season</td>\n",
              "    </tr>\n",
              "    <tr>\n",
              "      <th>...</th>\n",
              "      <td>...</td>\n",
              "      <td>...</td>\n",
              "      <td>...</td>\n",
              "      <td>...</td>\n",
              "      <td>...</td>\n",
              "      <td>...</td>\n",
              "      <td>...</td>\n",
              "      <td>...</td>\n",
              "    </tr>\n",
              "    <tr>\n",
              "      <th>95</th>\n",
              "      <td>How long did it take Chris to watch the show? I don’t think he said 😂</td>\n",
              "      <td>Ugwz9LYQreK7uDO3rQh4AaABAg</td>\n",
              "      <td>Earthling</td>\n",
              "      <td>0</td>\n",
              "      <td>0</td>\n",
              "      <td>2021-05-21T07:08:27Z</td>\n",
              "      <td>0</td>\n",
              "      <td>long chris watch think say face tear joy</td>\n",
              "    </tr>\n",
              "    <tr>\n",
              "      <th>96</th>\n",
              "      <td>Damn... I hadn't even thought of the idea of Arya taking brans face and using that to kill the night king. That would have been really fucking cool, actually, and could have fixed that problem... Which was one of the major problems I had with season eight.</td>\n",
              "      <td>UgwTTZz5POaQUAl6R3Z4AaABAg</td>\n",
              "      <td>Justanother Lostsoul</td>\n",
              "      <td>0</td>\n",
              "      <td>0</td>\n",
              "      <td>2021-05-20T00:51:50Z</td>\n",
              "      <td>0</td>\n",
              "      <td>damn think idea arya take bran face kill night king fuck cool actually fix problem major problem season</td>\n",
              "    </tr>\n",
              "    <tr>\n",
              "      <th>97</th>\n",
              "      <td>16:30 lol. Agreed</td>\n",
              "      <td>Ugzp8TIK9x1OswGv3fZ4AaABAg</td>\n",
              "      <td>Fin707</td>\n",
              "      <td>0</td>\n",
              "      <td>0</td>\n",
              "      <td>2021-05-18T15:50:22Z</td>\n",
              "      <td>0</td>\n",
              "      <td>1630 lol agree</td>\n",
              "    </tr>\n",
              "    <tr>\n",
              "      <th>98</th>\n",
              "      <td>Sorry, but if I would describe season 8 with one word it would be \"anticlimatic\"</td>\n",
              "      <td>UgyEB6dtbxHLElMS6g94AaABAg</td>\n",
              "      <td>Mäxy</td>\n",
              "      <td>0</td>\n",
              "      <td>0</td>\n",
              "      <td>2021-05-18T15:25:55Z</td>\n",
              "      <td>0</td>\n",
              "      <td>sorry describe season 8 word anticlimatic</td>\n",
              "    </tr>\n",
              "    <tr>\n",
              "      <th>99</th>\n",
              "      <td>You mention that you're not surprised the Night King was an afterthought, but the thing is, he was a looming threat, he hadn't had his time in the spotlight yet, he could have and should have been so much more.\\n\\nI fully agree that the white walkers are very unimpressive for most of the show, b...</td>\n",
              "      <td>Ugwhqwpp3DQQOv1pVTt4AaABAg</td>\n",
              "      <td>Metal-Spark</td>\n",
              "      <td>0</td>\n",
              "      <td>0</td>\n",
              "      <td>2021-05-18T10:02:16Z</td>\n",
              "      <td>0</td>\n",
              "      <td>mention surprise night king afterthought thing loom threat time spotlight fully agree white walker unimpressive entire season maybe dedicate invasion wall stop afterthought genuine threat</td>\n",
              "    </tr>\n",
              "  </tbody>\n",
              "</table>\n",
              "<p>100 rows × 8 columns</p>\n",
              "</div>\n",
              "      <button class=\"colab-df-convert\" onclick=\"convertToInteractive('df-e306cce8-40b4-4029-811f-312078ec9501')\"\n",
              "              title=\"Convert this dataframe to an interactive table.\"\n",
              "              style=\"display:none;\">\n",
              "        \n",
              "  <svg xmlns=\"http://www.w3.org/2000/svg\" height=\"24px\"viewBox=\"0 0 24 24\"\n",
              "       width=\"24px\">\n",
              "    <path d=\"M0 0h24v24H0V0z\" fill=\"none\"/>\n",
              "    <path d=\"M18.56 5.44l.94 2.06.94-2.06 2.06-.94-2.06-.94-.94-2.06-.94 2.06-2.06.94zm-11 1L8.5 8.5l.94-2.06 2.06-.94-2.06-.94L8.5 2.5l-.94 2.06-2.06.94zm10 10l.94 2.06.94-2.06 2.06-.94-2.06-.94-.94-2.06-.94 2.06-2.06.94z\"/><path d=\"M17.41 7.96l-1.37-1.37c-.4-.4-.92-.59-1.43-.59-.52 0-1.04.2-1.43.59L10.3 9.45l-7.72 7.72c-.78.78-.78 2.05 0 2.83L4 21.41c.39.39.9.59 1.41.59.51 0 1.02-.2 1.41-.59l7.78-7.78 2.81-2.81c.8-.78.8-2.07 0-2.86zM5.41 20L4 18.59l7.72-7.72 1.47 1.35L5.41 20z\"/>\n",
              "  </svg>\n",
              "      </button>\n",
              "      \n",
              "  <style>\n",
              "    .colab-df-container {\n",
              "      display:flex;\n",
              "      flex-wrap:wrap;\n",
              "      gap: 12px;\n",
              "    }\n",
              "\n",
              "    .colab-df-convert {\n",
              "      background-color: #E8F0FE;\n",
              "      border: none;\n",
              "      border-radius: 50%;\n",
              "      cursor: pointer;\n",
              "      display: none;\n",
              "      fill: #1967D2;\n",
              "      height: 32px;\n",
              "      padding: 0 0 0 0;\n",
              "      width: 32px;\n",
              "    }\n",
              "\n",
              "    .colab-df-convert:hover {\n",
              "      background-color: #E2EBFA;\n",
              "      box-shadow: 0px 1px 2px rgba(60, 64, 67, 0.3), 0px 1px 3px 1px rgba(60, 64, 67, 0.15);\n",
              "      fill: #174EA6;\n",
              "    }\n",
              "\n",
              "    [theme=dark] .colab-df-convert {\n",
              "      background-color: #3B4455;\n",
              "      fill: #D2E3FC;\n",
              "    }\n",
              "\n",
              "    [theme=dark] .colab-df-convert:hover {\n",
              "      background-color: #434B5C;\n",
              "      box-shadow: 0px 1px 3px 1px rgba(0, 0, 0, 0.15);\n",
              "      filter: drop-shadow(0px 1px 2px rgba(0, 0, 0, 0.3));\n",
              "      fill: #FFFFFF;\n",
              "    }\n",
              "  </style>\n",
              "\n",
              "      <script>\n",
              "        const buttonEl =\n",
              "          document.querySelector('#df-e306cce8-40b4-4029-811f-312078ec9501 button.colab-df-convert');\n",
              "        buttonEl.style.display =\n",
              "          google.colab.kernel.accessAllowed ? 'block' : 'none';\n",
              "\n",
              "        async function convertToInteractive(key) {\n",
              "          const element = document.querySelector('#df-e306cce8-40b4-4029-811f-312078ec9501');\n",
              "          const dataTable =\n",
              "            await google.colab.kernel.invokeFunction('convertToInteractive',\n",
              "                                                     [key], {});\n",
              "          if (!dataTable) return;\n",
              "\n",
              "          const docLinkHtml = 'Like what you see? Visit the ' +\n",
              "            '<a target=\"_blank\" href=https://colab.research.google.com/notebooks/data_table.ipynb>data table notebook</a>'\n",
              "            + ' to learn more about interactive tables.';\n",
              "          element.innerHTML = '';\n",
              "          dataTable['output_type'] = 'display_data';\n",
              "          await google.colab.output.renderOutput(dataTable, element);\n",
              "          const docLink = document.createElement('div');\n",
              "          docLink.innerHTML = docLinkHtml;\n",
              "          element.appendChild(docLink);\n",
              "        }\n",
              "      </script>\n",
              "    </div>\n",
              "  </div>\n",
              "  "
            ],
            "text/plain": [
              "                                                                                                                                                                                                                                                                                                        comment  ...                                                                                                                                                                                clean_comment\n",
              "0                                                                                                                                                                                                                        Ur the most optimistic person in the universe and if you're piss Ed it means something  ...                                                                                                                                                   ur optimistic person universe piss ed mean\n",
              "1                                                                                    It wasn't just the direction that plot moved, did you also note how the dialog stopped including poetic and thoughtful lines and how Varys and Tyrion's wit and intelligence dropped from magnficant to average dunderhead  ...                                                         direction plot move note dialog stop include poetic thoughtful line varys tyrion wit intelligence drop magnficant average dunderhead\n",
              "2                                                                                                                                                                                                                                                                                 Lazy writing towards the end.  ...                                                                                                                                                                               lazy write end\n",
              "3                                                                                                                                                                                                                                                                                                          Cool  ...                                                                                                                                                                                         cool\n",
              "4                                                                                                                                                           The night king vs people was the main plot point they just never wanted to address it. Was the first scene in the show and the last in every season  ...                                                                                                                               night king vs people main plot point want address scene season\n",
              "..                                                                                                                                                                                                                                                                                                          ...  ...                                                                                                                                                                                          ...\n",
              "95                                                                                                                                                                                                                                        How long did it take Chris to watch the show? I don’t think he said 😂  ...                                                                                                                                                     long chris watch think say face tear joy\n",
              "96                                             Damn... I hadn't even thought of the idea of Arya taking brans face and using that to kill the night king. That would have been really fucking cool, actually, and could have fixed that problem... Which was one of the major problems I had with season eight.  ...                                                                                      damn think idea arya take bran face kill night king fuck cool actually fix problem major problem season\n",
              "97                                                                                                                                                                                                                                                                                            16:30 lol. Agreed  ...                                                                                                                                                                               1630 lol agree\n",
              "98                                                                                                                                                                                                                             Sorry, but if I would describe season 8 with one word it would be \"anticlimatic\"  ...                                                                                                                                                    sorry describe season 8 word anticlimatic\n",
              "99  You mention that you're not surprised the Night King was an afterthought, but the thing is, he was a looming threat, he hadn't had his time in the spotlight yet, he could have and should have been so much more.\\n\\nI fully agree that the white walkers are very unimpressive for most of the show, b...  ...  mention surprise night king afterthought thing loom threat time spotlight fully agree white walker unimpressive entire season maybe dedicate invasion wall stop afterthought genuine threat\n",
              "\n",
              "[100 rows x 8 columns]"
            ]
          },
          "metadata": {},
          "execution_count": 134
        }
      ]
    },
    {
      "cell_type": "code",
      "source": [
        "df['clean_comment'][38] = 'call week short time period watch got? fucking clown take one week watch entire show'\n"
      ],
      "metadata": {
        "colab": {
          "base_uri": "https://localhost:8080/"
        },
        "id": "xaSthtWMLijF",
        "outputId": "9390ca19-efe5-49ae-8a44-4d489ab3d9cd"
      },
      "execution_count": null,
      "outputs": [
        {
          "output_type": "stream",
          "name": "stderr",
          "text": [
            "/usr/local/lib/python3.7/dist-packages/ipykernel_launcher.py:1: SettingWithCopyWarning: \n",
            "A value is trying to be set on a copy of a slice from a DataFrame\n",
            "\n",
            "See the caveats in the documentation: https://pandas.pydata.org/pandas-docs/stable/user_guide/indexing.html#returning-a-view-versus-a-copy\n",
            "  \"\"\"Entry point for launching an IPython kernel.\n"
          ]
        }
      ]
    },
    {
      "cell_type": "code",
      "source": [
        "df['clean_comment'][38]"
      ],
      "metadata": {
        "colab": {
          "base_uri": "https://localhost:8080/",
          "height": 35
        },
        "id": "kz8NI0U0L1e8",
        "outputId": "0fee6be1-8a3c-430e-a5ad-b3f1abe8e4b4"
      },
      "execution_count": null,
      "outputs": [
        {
          "output_type": "execute_result",
          "data": {
            "application/vnd.google.colaboratory.intrinsic+json": {
              "type": "string"
            },
            "text/plain": [
              "'call week short time period watch got? fucking clown take one week watch entire show'"
            ]
          },
          "metadata": {},
          "execution_count": 137
        }
      ]
    },
    {
      "cell_type": "code",
      "source": [
        "df.drop(df[ df['comment_id'] == 'Ugy_JN_8YgFxNqnq4-14AaABAg' ].index, inplace = True)"
      ],
      "metadata": {
        "id": "IeMiXAmdMD1m"
      },
      "execution_count": null,
      "outputs": []
    },
    {
      "cell_type": "code",
      "source": [
        "df.shape"
      ],
      "metadata": {
        "colab": {
          "base_uri": "https://localhost:8080/"
        },
        "id": "eUWIoqIQNCcX",
        "outputId": "1087d072-4300-482d-a72a-6575b23c45a1"
      },
      "execution_count": null,
      "outputs": [
        {
          "output_type": "execute_result",
          "data": {
            "text/plain": [
              "(99, 8)"
            ]
          },
          "metadata": {},
          "execution_count": 139
        }
      ]
    },
    {
      "cell_type": "code",
      "source": [
        "all_words = []\n",
        "for line in list(df['clean_comment']):\n",
        "    words = line.split()\n",
        "    for word in words:\n",
        "        all_words.append(word)\n",
        "        \n",
        "plt.figure(figsize=(12,5))\n",
        "plt.title('Top 25 most common words')\n",
        "plt.xticks(fontsize=13, rotation=90)\n",
        "fd = nltk.FreqDist(all_words)\n",
        "fd.plot(25,cumulative=False)"
      ],
      "metadata": {
        "colab": {
          "base_uri": "https://localhost:8080/",
          "height": 402
        },
        "id": "eK3VEziUJK0Q",
        "outputId": "54c844ce-c36a-4772-900f-0da2f7d458b1"
      },
      "execution_count": null,
      "outputs": [
        {
          "output_type": "display_data",
          "data": {
            "image/png": "[encoded data removed]",
            "text/plain": [
              "<Figure size 864x360 with 1 Axes>"
            ]
          },
          "metadata": {
            "needs_background": "light"
          }
        }
      ]
    },
    {
      "cell_type": "markdown",
      "source": [
        "# Linguistic Features"
      ],
      "metadata": {
        "id": "BuiceLAnJ4a7"
      }
    },
    {
      "cell_type": "markdown",
      "source": [
        "Bag of Words features\n",
        "Here, frequency of every word in vocabulary is used to build the feature space."
      ],
      "metadata": {
        "id": "9juOx9FOJh1t"
      }
    },
    {
      "cell_type": "code",
      "source": [
        "from sklearn.feature_extraction.text import CountVectorizer"
      ],
      "metadata": {
        "id": "gs6yBa12KJ1x"
      },
      "execution_count": null,
      "outputs": []
    },
    {
      "cell_type": "code",
      "source": [
        "vectorizerCV = CountVectorizer()\n",
        "featuresCV= vectorizer.fit_transform(df['clean_comment'])\n",
        "featuresCV.shape"
      ],
      "metadata": {
        "colab": {
          "base_uri": "https://localhost:8080/"
        },
        "id": "juriNnLVJQmS",
        "outputId": "fa3ba921-3d8f-4fe1-909e-1e3807391244"
      },
      "execution_count": null,
      "outputs": [
        {
          "output_type": "execute_result",
          "data": {
            "text/plain": [
              "(99, 786)"
            ]
          },
          "metadata": {},
          "execution_count": 85
        }
      ]
    },
    {
      "cell_type": "code",
      "source": [
        "featuresCV"
      ],
      "metadata": {
        "colab": {
          "base_uri": "https://localhost:8080/"
        },
        "id": "4xWr80zLPcd2",
        "outputId": "367ec43d-1f38-47f9-b700-3678d32498fa"
      },
      "execution_count": null,
      "outputs": [
        {
          "output_type": "execute_result",
          "data": {
            "text/plain": [
              "<99x786 sparse matrix of type '<class 'numpy.int64'>'\n",
              "\twith 1488 stored elements in Compressed Sparse Row format>"
            ]
          },
          "metadata": {},
          "execution_count": 86
        }
      ]
    },
    {
      "cell_type": "markdown",
      "source": [
        "TF-IDF features\n",
        "The main idea behinf tf-idf is to increase the importance of the words that occur in the subset of documents rather than the words occuring in all the documents\n",
        "TF-IDF score of every word in vocabulary is calculated and used to build the feature space"
      ],
      "metadata": {
        "id": "m7SNIUKBK0GO"
      }
    },
    {
      "cell_type": "code",
      "source": [
        "from sklearn.feature_extraction.text import TfidfVectorizer #feature extraction"
      ],
      "metadata": {
        "id": "MPM_asUkJjeW"
      },
      "execution_count": null,
      "outputs": []
    },
    {
      "cell_type": "code",
      "source": [
        "vectorizerTF = TfidfVectorizer() \n",
        "featuresTF = vectorizer.fit_transform(df['clean_comment'])\n",
        "featuresTF.shape"
      ],
      "metadata": {
        "colab": {
          "base_uri": "https://localhost:8080/"
        },
        "id": "sijDDjCSK41U",
        "outputId": "415de632-ef95-450c-9f26-46828e90c824"
      },
      "execution_count": null,
      "outputs": [
        {
          "output_type": "execute_result",
          "data": {
            "text/plain": [
              "(99, 788)"
            ]
          },
          "metadata": {},
          "execution_count": 143
        }
      ]
    },
    {
      "cell_type": "code",
      "source": [
        "featuresTF"
      ],
      "metadata": {
        "colab": {
          "base_uri": "https://localhost:8080/"
        },
        "id": "B_zqDw-5PgVh",
        "outputId": "029064fb-fd49-41d4-fc7f-e69c860f9aa2"
      },
      "execution_count": null,
      "outputs": [
        {
          "output_type": "execute_result",
          "data": {
            "text/plain": [
              "<99x786 sparse matrix of type '<class 'numpy.float64'>'\n",
              "\twith 1488 stored elements in Compressed Sparse Row format>"
            ]
          },
          "metadata": {},
          "execution_count": 91
        }
      ]
    },
    {
      "cell_type": "code",
      "source": [
        "#vectorizer.get_feature_names() "
      ],
      "metadata": {
        "id": "7fkek4LhLE58"
      },
      "execution_count": null,
      "outputs": []
    },
    {
      "cell_type": "markdown",
      "source": [
        "# Word Embeddings: Word2Vec"
      ],
      "metadata": {
        "id": "tF26emQhNgKn"
      }
    },
    {
      "cell_type": "code",
      "source": [
        "# download and extract word2vec embeddings \n",
        "! wget -c \"https://s3.amazonaws.com/dl4j-distribution/GoogleNews-vectors-negative300.bin.gz\"\n",
        "! gunzip GoogleNews-vectors-negative300.bin.gz"
      ],
      "metadata": {
        "colab": {
          "base_uri": "https://localhost:8080/"
        },
        "id": "A76SMYCVNj6r",
        "outputId": "9bdf2cc6-908f-44c8-af72-8552cefa70f2"
      },
      "execution_count": null,
      "outputs": [
        {
          "output_type": "stream",
          "name": "stdout",
          "text": [
            "--2022-02-16 08:19:28--  https://s3.amazonaws.com/dl4j-distribution/GoogleNews-vectors-negative300.bin.gz\n",
            "Resolving s3.amazonaws.com (s3.amazonaws.com)... 52.216.110.5\n",
            "Connecting to s3.amazonaws.com (s3.amazonaws.com)|52.216.110.5|:443... connected.\n",
            "HTTP request sent, awaiting response... 200 OK\n",
            "Length: 1647046227 (1.5G) [application/x-gzip]\n",
            "Saving to: ‘GoogleNews-vectors-negative300.bin.gz’\n",
            "\n",
            "GoogleNews-vectors- 100%[===================>]   1.53G  57.3MB/s    in 43s     \n",
            "\n",
            "2022-02-16 08:20:12 (36.2 MB/s) - ‘GoogleNews-vectors-negative300.bin.gz’ saved [1647046227/1647046227]\n",
            "\n"
          ]
        }
      ]
    },
    {
      "cell_type": "code",
      "source": [
        "from gensim.models import KeyedVectors\n",
        "\n",
        "# path of the downloaded model\n",
        "filename = 'GoogleNews-vectors-negative300.bin'\n",
        "\n",
        "# load into gensim\n",
        "w2vec = KeyedVectors.load_word2vec_format(filename, binary=True)"
      ],
      "metadata": {
        "id": "wFvsbJ4kNyqj"
      },
      "execution_count": null,
      "outputs": []
    },
    {
      "cell_type": "code",
      "source": [
        "# function to get vector representation of a tweet\n",
        "def word_vector(tokens):\n",
        "    vec = np.zeros((1,300))\n",
        "    count = 0.\n",
        "    for word in tokens:\n",
        "        try:\n",
        "            vec += w2vec.wv.word_vec(word)\n",
        "            count += 1.\n",
        "        except KeyError: # handling the case where the token is not in vocabulary\n",
        "                         \n",
        "            continue\n",
        "    if count != 0:\n",
        "        vec /= count\n",
        "    return vec"
      ],
      "metadata": {
        "id": "QY9BSwHzOPLe"
      },
      "execution_count": null,
      "outputs": []
    },
    {
      "cell_type": "code",
      "source": [
        "# empty array of shape (no. of tweets X 300) to store word2vec features\n",
        "wordvec_arrays = np.zeros((len(df),300))\n",
        "\n",
        "for i,j in enumerate(df['clean_comment']):\n",
        "  wordvec_arrays[i,:] = word_vector(j.split())"
      ],
      "metadata": {
        "colab": {
          "base_uri": "https://localhost:8080/"
        },
        "id": "UmoG2ixdOfep",
        "outputId": "60c47605-27f7-4f32-b537-c6b809c3be5a"
      },
      "execution_count": null,
      "outputs": [
        {
          "output_type": "stream",
          "name": "stderr",
          "text": [
            "/usr/local/lib/python3.7/dist-packages/ipykernel_launcher.py:7: DeprecationWarning: Call to deprecated `wv` (Attribute will be removed in 4.0.0, use self instead).\n",
            "  import sys\n"
          ]
        }
      ]
    },
    {
      "cell_type": "code",
      "source": [
        "wordvec_arrays.shape"
      ],
      "metadata": {
        "colab": {
          "base_uri": "https://localhost:8080/"
        },
        "id": "GI8mVUvaOfhb",
        "outputId": "ff259ec5-8a77-4e27-c3e1-3761b1819071"
      },
      "execution_count": null,
      "outputs": [
        {
          "output_type": "execute_result",
          "data": {
            "text/plain": [
              "(99, 300)"
            ]
          },
          "metadata": {},
          "execution_count": 104
        }
      ]
    },
    {
      "cell_type": "markdown",
      "source": [
        "# Vader"
      ],
      "metadata": {
        "id": "_H0nkT9sclk9"
      }
    },
    {
      "cell_type": "code",
      "source": [
        "!pip install vaderSentiment\n",
        "from vaderSentiment.vaderSentiment import SentimentIntensityAnalyzer"
      ],
      "metadata": {
        "colab": {
          "base_uri": "https://localhost:8080/"
        },
        "id": "sCWRYRKvdHIM",
        "outputId": "ab229857-3411-412a-8b35-21d735806c69"
      },
      "execution_count": null,
      "outputs": [
        {
          "output_type": "stream",
          "name": "stdout",
          "text": [
            "Collecting vaderSentiment\n",
            "  Downloading vaderSentiment-3.3.2-py2.py3-none-any.whl (125 kB)\n",
            "\u001b[K     |████████████████████████████████| 125 kB 5.3 MB/s \n",
            "\u001b[?25hRequirement already satisfied: requests in /usr/local/lib/python3.7/dist-packages (from vaderSentiment) (2.23.0)\n",
            "Requirement already satisfied: chardet<4,>=3.0.2 in /usr/local/lib/python3.7/dist-packages (from requests->vaderSentiment) (3.0.4)\n",
            "Requirement already satisfied: certifi>=2017.4.17 in /usr/local/lib/python3.7/dist-packages (from requests->vaderSentiment) (2021.10.8)\n",
            "Requirement already satisfied: urllib3!=1.25.0,!=1.25.1,<1.26,>=1.21.1 in /usr/local/lib/python3.7/dist-packages (from requests->vaderSentiment) (1.24.3)\n",
            "Requirement already satisfied: idna<3,>=2.5 in /usr/local/lib/python3.7/dist-packages (from requests->vaderSentiment) (2.10)\n",
            "Installing collected packages: vaderSentiment\n",
            "Successfully installed vaderSentiment-3.3.2\n"
          ]
        }
      ]
    },
    {
      "cell_type": "code",
      "source": [
        "analyzer = SentimentIntensityAnalyzer()"
      ],
      "metadata": {
        "id": "inDyDL7TdHLV"
      },
      "execution_count": null,
      "outputs": []
    },
    {
      "cell_type": "code",
      "source": [
        "df.comment[96]"
      ],
      "metadata": {
        "colab": {
          "base_uri": "https://localhost:8080/",
          "height": 53
        },
        "id": "Lq9dNQ2noD4V",
        "outputId": "a73e9a25-36ac-4cd6-e8c7-b57171e838e8"
      },
      "execution_count": null,
      "outputs": [
        {
          "output_type": "execute_result",
          "data": {
            "application/vnd.google.colaboratory.intrinsic+json": {
              "type": "string"
            },
            "text/plain": [
              "\"Damn... I hadn't even thought of the idea of Arya taking brans face and using that to kill the night king. That would have been really fucking cool, actually, and could have fixed that problem... Which was one of the major problems I had with season eight.\""
            ]
          },
          "metadata": {},
          "execution_count": 79
        }
      ]
    },
    {
      "cell_type": "code",
      "source": [
        "analyzer.polarity_scores(df.comment[73])"
      ],
      "metadata": {
        "colab": {
          "base_uri": "https://localhost:8080/"
        },
        "id": "mp-OAgaXnnax",
        "outputId": "83d55d66-852f-45ca-c104-bde0dd96edf9"
      },
      "execution_count": null,
      "outputs": [
        {
          "output_type": "execute_result",
          "data": {
            "text/plain": [
              "{'compound': -0.2322, 'neg': 0.127, 'neu': 0.771, 'pos': 0.103}"
            ]
          },
          "metadata": {},
          "execution_count": 80
        }
      ]
    },
    {
      "cell_type": "code",
      "source": [
        "analyzer.polarity_scores(df.clean_comment[73])"
      ],
      "metadata": {
        "colab": {
          "base_uri": "https://localhost:8080/"
        },
        "id": "euhuUXxtpCPD",
        "outputId": "c26ca0de-528a-49c9-fe30-7f0fe7708d5d"
      },
      "execution_count": null,
      "outputs": [
        {
          "output_type": "execute_result",
          "data": {
            "text/plain": [
              "{'compound': 0.0516, 'neg': 0.128, 'neu': 0.734, 'pos': 0.138}"
            ]
          },
          "metadata": {},
          "execution_count": 81
        }
      ]
    },
    {
      "cell_type": "markdown",
      "source": [
        "as we can see above that cleaner comment definitely helped with identifying that it is a negative comment "
      ],
      "metadata": {
        "id": "JeTPdFwdqSQb"
      }
    },
    {
      "cell_type": "code",
      "source": [
        "df['vader_neg_sentiment']   = df['clean_comment'].apply(lambda x: analyzer.polarity_scores(x)['neg'])\n",
        "df['vader_pos_sentiment']   = df['clean_comment'].apply(lambda x: analyzer.polarity_scores(x)['pos'])\n",
        "df['vader_comp_sentiment']  = df['clean_comment'].apply(lambda x: analyzer.polarity_scores(x)['compound'])"
      ],
      "metadata": {
        "id": "X34_N2G-DN8k"
      },
      "execution_count": null,
      "outputs": []
    },
    {
      "cell_type": "code",
      "source": [
        "df"
      ],
      "metadata": {
        "colab": {
          "base_uri": "https://localhost:8080/",
          "height": 1000
        },
        "id": "31M4YUm-inUs",
        "outputId": "f2515dc6-17f9-4d0e-a71a-5beaeb855ee5"
      },
      "execution_count": null,
      "outputs": [
        {
          "output_type": "execute_result",
          "data": {
            "text/html": [
              "\n",
              "  <div id=\"df-b17a5e91-98cf-46b8-9c1b-0cfdfdcc52f6\">\n",
              "    <div class=\"colab-df-container\">\n",
              "      <div>\n",
              "<style scoped>\n",
              "    .dataframe tbody tr th:only-of-type {\n",
              "        vertical-align: middle;\n",
              "    }\n",
              "\n",
              "    .dataframe tbody tr th {\n",
              "        vertical-align: top;\n",
              "    }\n",
              "\n",
              "    .dataframe thead th {\n",
              "        text-align: right;\n",
              "    }\n",
              "</style>\n",
              "<table border=\"1\" class=\"dataframe\">\n",
              "  <thead>\n",
              "    <tr style=\"text-align: right;\">\n",
              "      <th></th>\n",
              "      <th>comment</th>\n",
              "      <th>comment_id</th>\n",
              "      <th>author_name</th>\n",
              "      <th>reply_count</th>\n",
              "      <th>like_count</th>\n",
              "      <th>date</th>\n",
              "      <th>total_reply_counts</th>\n",
              "      <th>clean_comment</th>\n",
              "      <th>vader_neg_sentiment</th>\n",
              "      <th>vader_pos_sentiment</th>\n",
              "      <th>vader_comp_sentiment</th>\n",
              "    </tr>\n",
              "  </thead>\n",
              "  <tbody>\n",
              "    <tr>\n",
              "      <th>0</th>\n",
              "      <td>Ur the most optimistic person in the universe and if you're piss Ed it means something</td>\n",
              "      <td>Ugylute2Ab6mA0G2cSF4AaABAg</td>\n",
              "      <td>HJRC_0823</td>\n",
              "      <td>1</td>\n",
              "      <td>0</td>\n",
              "      <td>2022-02-08</td>\n",
              "      <td>1</td>\n",
              "      <td>ur optimistic person universe piss ed mean something</td>\n",
              "      <td>0.245</td>\n",
              "      <td>0.209</td>\n",
              "      <td>-0.1027</td>\n",
              "    </tr>\n",
              "    <tr>\n",
              "      <th>1</th>\n",
              "      <td>It wasn't just the direction that plot moved, did you also note how the dialog stopped including poetic and thoughtful lines and how Varys and Tyrion's wit and intelligence dropped from magnficant to average dunderhead</td>\n",
              "      <td>UgyU8Y348xtxK5_LlGZ4AaABAg</td>\n",
              "      <td>Furry Lovebear</td>\n",
              "      <td>0</td>\n",
              "      <td>0</td>\n",
              "      <td>2022-01-25</td>\n",
              "      <td>0</td>\n",
              "      <td>direction plot moved also note dialog stopped including poetic thoughtful line varys tyrion's wit intelligence dropped magnficant average dunderhead</td>\n",
              "      <td>0.081</td>\n",
              "      <td>0.242</td>\n",
              "      <td>0.5859</td>\n",
              "    </tr>\n",
              "    <tr>\n",
              "      <th>2</th>\n",
              "      <td>Lazy writing towards the end.</td>\n",
              "      <td>UgxNEHssvL6RlJ9KQex4AaABAg</td>\n",
              "      <td>Charles Comeaux jr</td>\n",
              "      <td>0</td>\n",
              "      <td>0</td>\n",
              "      <td>2022-01-18</td>\n",
              "      <td>0</td>\n",
              "      <td>lazy writing towards end</td>\n",
              "      <td>0.455</td>\n",
              "      <td>0.000</td>\n",
              "      <td>-0.3612</td>\n",
              "    </tr>\n",
              "    <tr>\n",
              "      <th>3</th>\n",
              "      <td>Cool</td>\n",
              "      <td>Ugy638KYY2rLNdovh2V4AaABAg</td>\n",
              "      <td>Beavis Johnson</td>\n",
              "      <td>0</td>\n",
              "      <td>0</td>\n",
              "      <td>2022-01-12</td>\n",
              "      <td>0</td>\n",
              "      <td>cool</td>\n",
              "      <td>0.000</td>\n",
              "      <td>1.000</td>\n",
              "      <td>0.3182</td>\n",
              "    </tr>\n",
              "    <tr>\n",
              "      <th>4</th>\n",
              "      <td>The night king vs people was the main plot point they just never wanted to address it. Was the first scene in the show and the last in every season</td>\n",
              "      <td>UgzJeAc28XQ3jCENR9B4AaABAg</td>\n",
              "      <td>Luke Coupland</td>\n",
              "      <td>0</td>\n",
              "      <td>0</td>\n",
              "      <td>2022-01-08</td>\n",
              "      <td>0</td>\n",
              "      <td>night king v people main plot point never wanted address first scene show last every season</td>\n",
              "      <td>0.000</td>\n",
              "      <td>0.000</td>\n",
              "      <td>0.0000</td>\n",
              "    </tr>\n",
              "    <tr>\n",
              "      <th>...</th>\n",
              "      <td>...</td>\n",
              "      <td>...</td>\n",
              "      <td>...</td>\n",
              "      <td>...</td>\n",
              "      <td>...</td>\n",
              "      <td>...</td>\n",
              "      <td>...</td>\n",
              "      <td>...</td>\n",
              "      <td>...</td>\n",
              "      <td>...</td>\n",
              "      <td>...</td>\n",
              "    </tr>\n",
              "    <tr>\n",
              "      <th>95</th>\n",
              "      <td>How long did it take Chris to watch the show? I don’t think he said 😂</td>\n",
              "      <td>Ugwz9LYQreK7uDO3rQh4AaABAg</td>\n",
              "      <td>Earthling</td>\n",
              "      <td>0</td>\n",
              "      <td>0</td>\n",
              "      <td>2021-05-21</td>\n",
              "      <td>0</td>\n",
              "      <td>long take chris watch show? think said face tear joy</td>\n",
              "      <td>0.000</td>\n",
              "      <td>0.297</td>\n",
              "      <td>0.5859</td>\n",
              "    </tr>\n",
              "    <tr>\n",
              "      <th>96</th>\n",
              "      <td>Damn... I hadn't even thought of the idea of Arya taking brans face and using that to kill the night king. That would have been really fucking cool, actually, and could have fixed that problem... Which was one of the major problems I had with season eight.</td>\n",
              "      <td>UgwTTZz5POaQUAl6R3Z4AaABAg</td>\n",
              "      <td>Justanother Lostsoul</td>\n",
              "      <td>0</td>\n",
              "      <td>0</td>\n",
              "      <td>2021-05-20</td>\n",
              "      <td>0</td>\n",
              "      <td>damn even thought idea arya taking bran face using kill night king would really fucking cool actually could fixed problem one major problem season eight</td>\n",
              "      <td>0.364</td>\n",
              "      <td>0.080</td>\n",
              "      <td>-0.8813</td>\n",
              "    </tr>\n",
              "    <tr>\n",
              "      <th>97</th>\n",
              "      <td>16:30 lol. Agreed</td>\n",
              "      <td>Ugzp8TIK9x1OswGv3fZ4AaABAg</td>\n",
              "      <td>Fin707</td>\n",
              "      <td>0</td>\n",
              "      <td>0</td>\n",
              "      <td>2021-05-18</td>\n",
              "      <td>0</td>\n",
              "      <td>1630 lol agreed</td>\n",
              "      <td>0.000</td>\n",
              "      <td>0.831</td>\n",
              "      <td>0.5994</td>\n",
              "    </tr>\n",
              "    <tr>\n",
              "      <th>98</th>\n",
              "      <td>Sorry, but if I would describe season 8 with one word it would be \"anticlimatic\"</td>\n",
              "      <td>UgyEB6dtbxHLElMS6g94AaABAg</td>\n",
              "      <td>Mäxy</td>\n",
              "      <td>0</td>\n",
              "      <td>0</td>\n",
              "      <td>2021-05-18</td>\n",
              "      <td>0</td>\n",
              "      <td>sorry would describe season 8 one word would \"anticlimatic\"</td>\n",
              "      <td>0.140</td>\n",
              "      <td>0.000</td>\n",
              "      <td>-0.0772</td>\n",
              "    </tr>\n",
              "    <tr>\n",
              "      <th>99</th>\n",
              "      <td>You mention that you're not surprised the Night King was an afterthought, but the thing is, he was a looming threat, he hadn't had his time in the spotlight yet, he could have and should have been so much more.\\n\\nI fully agree that the white walkers are very unimpressive for most of the show, b...</td>\n",
              "      <td>Ugwhqwpp3DQQOv1pVTt4AaABAg</td>\n",
              "      <td>Metal-Spark</td>\n",
              "      <td>0</td>\n",
              "      <td>0</td>\n",
              "      <td>2021-05-18</td>\n",
              "      <td>0</td>\n",
              "      <td>mention surprised night king afterthought thing looming threat time spotlight yet could much fully agree white walker unimpressive show would entire season maybe even two dedicated invasion beyond wall would stop afterthought genuine threat</td>\n",
              "      <td>0.277</td>\n",
              "      <td>0.165</td>\n",
              "      <td>-0.6378</td>\n",
              "    </tr>\n",
              "  </tbody>\n",
              "</table>\n",
              "<p>100 rows × 11 columns</p>\n",
              "</div>\n",
              "      <button class=\"colab-df-convert\" onclick=\"convertToInteractive('df-b17a5e91-98cf-46b8-9c1b-0cfdfdcc52f6')\"\n",
              "              title=\"Convert this dataframe to an interactive table.\"\n",
              "              style=\"display:none;\">\n",
              "        \n",
              "  <svg xmlns=\"http://www.w3.org/2000/svg\" height=\"24px\"viewBox=\"0 0 24 24\"\n",
              "       width=\"24px\">\n",
              "    <path d=\"M0 0h24v24H0V0z\" fill=\"none\"/>\n",
              "    <path d=\"M18.56 5.44l.94 2.06.94-2.06 2.06-.94-2.06-.94-.94-2.06-.94 2.06-2.06.94zm-11 1L8.5 8.5l.94-2.06 2.06-.94-2.06-.94L8.5 2.5l-.94 2.06-2.06.94zm10 10l.94 2.06.94-2.06 2.06-.94-2.06-.94-.94-2.06-.94 2.06-2.06.94z\"/><path d=\"M17.41 7.96l-1.37-1.37c-.4-.4-.92-.59-1.43-.59-.52 0-1.04.2-1.43.59L10.3 9.45l-7.72 7.72c-.78.78-.78 2.05 0 2.83L4 21.41c.39.39.9.59 1.41.59.51 0 1.02-.2 1.41-.59l7.78-7.78 2.81-2.81c.8-.78.8-2.07 0-2.86zM5.41 20L4 18.59l7.72-7.72 1.47 1.35L5.41 20z\"/>\n",
              "  </svg>\n",
              "      </button>\n",
              "      \n",
              "  <style>\n",
              "    .colab-df-container {\n",
              "      display:flex;\n",
              "      flex-wrap:wrap;\n",
              "      gap: 12px;\n",
              "    }\n",
              "\n",
              "    .colab-df-convert {\n",
              "      background-color: #E8F0FE;\n",
              "      border: none;\n",
              "      border-radius: 50%;\n",
              "      cursor: pointer;\n",
              "      display: none;\n",
              "      fill: #1967D2;\n",
              "      height: 32px;\n",
              "      padding: 0 0 0 0;\n",
              "      width: 32px;\n",
              "    }\n",
              "\n",
              "    .colab-df-convert:hover {\n",
              "      background-color: #E2EBFA;\n",
              "      box-shadow: 0px 1px 2px rgba(60, 64, 67, 0.3), 0px 1px 3px 1px rgba(60, 64, 67, 0.15);\n",
              "      fill: #174EA6;\n",
              "    }\n",
              "\n",
              "    [theme=dark] .colab-df-convert {\n",
              "      background-color: #3B4455;\n",
              "      fill: #D2E3FC;\n",
              "    }\n",
              "\n",
              "    [theme=dark] .colab-df-convert:hover {\n",
              "      background-color: #434B5C;\n",
              "      box-shadow: 0px 1px 3px 1px rgba(0, 0, 0, 0.15);\n",
              "      filter: drop-shadow(0px 1px 2px rgba(0, 0, 0, 0.3));\n",
              "      fill: #FFFFFF;\n",
              "    }\n",
              "  </style>\n",
              "\n",
              "      <script>\n",
              "        const buttonEl =\n",
              "          document.querySelector('#df-b17a5e91-98cf-46b8-9c1b-0cfdfdcc52f6 button.colab-df-convert');\n",
              "        buttonEl.style.display =\n",
              "          google.colab.kernel.accessAllowed ? 'block' : 'none';\n",
              "\n",
              "        async function convertToInteractive(key) {\n",
              "          const element = document.querySelector('#df-b17a5e91-98cf-46b8-9c1b-0cfdfdcc52f6');\n",
              "          const dataTable =\n",
              "            await google.colab.kernel.invokeFunction('convertToInteractive',\n",
              "                                                     [key], {});\n",
              "          if (!dataTable) return;\n",
              "\n",
              "          const docLinkHtml = 'Like what you see? Visit the ' +\n",
              "            '<a target=\"_blank\" href=https://colab.research.google.com/notebooks/data_table.ipynb>data table notebook</a>'\n",
              "            + ' to learn more about interactive tables.';\n",
              "          element.innerHTML = '';\n",
              "          dataTable['output_type'] = 'display_data';\n",
              "          await google.colab.output.renderOutput(dataTable, element);\n",
              "          const docLink = document.createElement('div');\n",
              "          docLink.innerHTML = docLinkHtml;\n",
              "          element.appendChild(docLink);\n",
              "        }\n",
              "      </script>\n",
              "    </div>\n",
              "  </div>\n",
              "  "
            ],
            "text/plain": [
              "                                                                                                                                                                                                                                                                                                        comment  ... vader_comp_sentiment\n",
              "0                                                                                                                                                                                                                        Ur the most optimistic person in the universe and if you're piss Ed it means something  ...              -0.1027\n",
              "1                                                                                    It wasn't just the direction that plot moved, did you also note how the dialog stopped including poetic and thoughtful lines and how Varys and Tyrion's wit and intelligence dropped from magnficant to average dunderhead  ...               0.5859\n",
              "2                                                                                                                                                                                                                                                                                 Lazy writing towards the end.  ...              -0.3612\n",
              "3                                                                                                                                                                                                                                                                                                          Cool  ...               0.3182\n",
              "4                                                                                                                                                           The night king vs people was the main plot point they just never wanted to address it. Was the first scene in the show and the last in every season  ...               0.0000\n",
              "..                                                                                                                                                                                                                                                                                                          ...  ...                  ...\n",
              "95                                                                                                                                                                                                                                        How long did it take Chris to watch the show? I don’t think he said 😂  ...               0.5859\n",
              "96                                             Damn... I hadn't even thought of the idea of Arya taking brans face and using that to kill the night king. That would have been really fucking cool, actually, and could have fixed that problem... Which was one of the major problems I had with season eight.  ...              -0.8813\n",
              "97                                                                                                                                                                                                                                                                                            16:30 lol. Agreed  ...               0.5994\n",
              "98                                                                                                                                                                                                                             Sorry, but if I would describe season 8 with one word it would be \"anticlimatic\"  ...              -0.0772\n",
              "99  You mention that you're not surprised the Night King was an afterthought, but the thing is, he was a looming threat, he hadn't had his time in the spotlight yet, he could have and should have been so much more.\\n\\nI fully agree that the white walkers are very unimpressive for most of the show, b...  ...              -0.6378\n",
              "\n",
              "[100 rows x 11 columns]"
            ]
          },
          "metadata": {},
          "execution_count": 42
        }
      ]
    },
    {
      "cell_type": "markdown",
      "source": [
        "# Text Blob"
      ],
      "metadata": {
        "id": "CW-Yr8pGfZHt"
      }
    },
    {
      "cell_type": "code",
      "source": [
        "from textblob import TextBlob"
      ],
      "metadata": {
        "id": "jS1k5J4MgIXv"
      },
      "execution_count": null,
      "outputs": []
    },
    {
      "cell_type": "code",
      "source": [
        "df.comment[0]"
      ],
      "metadata": {
        "colab": {
          "base_uri": "https://localhost:8080/",
          "height": 35
        },
        "id": "m1s6UIRRrd3m",
        "outputId": "ea39114d-3119-46aa-cf82-1abac814e859"
      },
      "execution_count": null,
      "outputs": [
        {
          "output_type": "execute_result",
          "data": {
            "application/vnd.google.colaboratory.intrinsic+json": {
              "type": "string"
            },
            "text/plain": [
              "\"Ur the most optimistic person in the universe and if you're piss Ed it means something\""
            ]
          },
          "metadata": {},
          "execution_count": 103
        }
      ]
    },
    {
      "cell_type": "code",
      "source": [
        "TextBlob(df.comment[0]).correct()"
      ],
      "metadata": {
        "colab": {
          "base_uri": "https://localhost:8080/"
        },
        "id": "kqXPleXmrh2_",
        "outputId": "c56e6722-3b61-4900-a594-175d9bef22bc"
      },
      "execution_count": null,
      "outputs": [
        {
          "output_type": "execute_result",
          "data": {
            "text/plain": [
              "TextBlob(\"Or the most optimistic person in the universe and if you're pass D it means something\")"
            ]
          },
          "metadata": {},
          "execution_count": 104
        }
      ]
    },
    {
      "cell_type": "code",
      "source": [
        "TextBlob(df.comment[0]).sentiment"
      ],
      "metadata": {
        "colab": {
          "base_uri": "https://localhost:8080/"
        },
        "id": "Uo9tPW8Vr2z2",
        "outputId": "762f7264-2275-4acf-962a-b9b1a0396e51"
      },
      "execution_count": null,
      "outputs": [
        {
          "output_type": "execute_result",
          "data": {
            "text/plain": [
              "Sentiment(polarity=0.5, subjectivity=0.5)"
            ]
          },
          "metadata": {},
          "execution_count": 105
        }
      ]
    },
    {
      "cell_type": "code",
      "source": [
        "TextBlob(df.comment[0]).correct().sentiment"
      ],
      "metadata": {
        "colab": {
          "base_uri": "https://localhost:8080/"
        },
        "id": "yIJ7jT1Mr_eW",
        "outputId": "58b305f5-242e-4f3d-af34-864e2af1d876"
      },
      "execution_count": null,
      "outputs": [
        {
          "output_type": "execute_result",
          "data": {
            "text/plain": [
              "Sentiment(polarity=0.5, subjectivity=0.5)"
            ]
          },
          "metadata": {},
          "execution_count": 106
        }
      ]
    },
    {
      "cell_type": "markdown",
      "source": [
        "let us avoid the spelling correction for now as most comments have correct spellings already"
      ],
      "metadata": {
        "id": "q5Y-4ewnuJTy"
      }
    },
    {
      "cell_type": "code",
      "source": [
        "df['textblob_polarity'] = df['comment'].map(lambda x: TextBlob(x).sentiment.polarity)"
      ],
      "metadata": {
        "id": "xQUHtyzVegOt"
      },
      "execution_count": null,
      "outputs": []
    },
    {
      "cell_type": "code",
      "source": [
        "df.head(5)"
      ],
      "metadata": {
        "colab": {
          "base_uri": "https://localhost:8080/",
          "height": 1000
        },
        "id": "wy01riBYegSc",
        "outputId": "845d18c6-d4e1-4719-e53f-9406bb8ec17b"
      },
      "execution_count": null,
      "outputs": [
        {
          "output_type": "execute_result",
          "data": {
            "text/html": [
              "\n",
              "  <div id=\"df-f946d036-c156-4b02-bfbe-3a1e382e70eb\">\n",
              "    <div class=\"colab-df-container\">\n",
              "      <div>\n",
              "<style scoped>\n",
              "    .dataframe tbody tr th:only-of-type {\n",
              "        vertical-align: middle;\n",
              "    }\n",
              "\n",
              "    .dataframe tbody tr th {\n",
              "        vertical-align: top;\n",
              "    }\n",
              "\n",
              "    .dataframe thead th {\n",
              "        text-align: right;\n",
              "    }\n",
              "</style>\n",
              "<table border=\"1\" class=\"dataframe\">\n",
              "  <thead>\n",
              "    <tr style=\"text-align: right;\">\n",
              "      <th></th>\n",
              "      <th>comment</th>\n",
              "      <th>comment_id</th>\n",
              "      <th>author_name</th>\n",
              "      <th>reply_count</th>\n",
              "      <th>like_count</th>\n",
              "      <th>date</th>\n",
              "      <th>total_reply_counts</th>\n",
              "      <th>clean_comment</th>\n",
              "      <th>vader_neg_sentiment</th>\n",
              "      <th>vader_pos_sentiment</th>\n",
              "      <th>vader_comp_sentiment</th>\n",
              "      <th>textblob_polarity</th>\n",
              "    </tr>\n",
              "  </thead>\n",
              "  <tbody>\n",
              "    <tr>\n",
              "      <th>0</th>\n",
              "      <td>Ur the most optimistic person in the universe and if you're piss Ed it means something</td>\n",
              "      <td>Ugylute2Ab6mA0G2cSF4AaABAg</td>\n",
              "      <td>HJRC_0823</td>\n",
              "      <td>1</td>\n",
              "      <td>0</td>\n",
              "      <td>2022-02-08</td>\n",
              "      <td>1</td>\n",
              "      <td>ur optimistic person universe piss ed mean something</td>\n",
              "      <td>0.245</td>\n",
              "      <td>0.209</td>\n",
              "      <td>-0.1027</td>\n",
              "      <td>0.500000</td>\n",
              "    </tr>\n",
              "    <tr>\n",
              "      <th>1</th>\n",
              "      <td>It wasn't just the direction that plot moved, did you also note how the dialog stopped including poetic and thoughtful lines and how Varys and Tyrion's wit and intelligence dropped from magnficant to average dunderhead</td>\n",
              "      <td>UgyU8Y348xtxK5_LlGZ4AaABAg</td>\n",
              "      <td>Furry Lovebear</td>\n",
              "      <td>0</td>\n",
              "      <td>0</td>\n",
              "      <td>2022-01-25</td>\n",
              "      <td>0</td>\n",
              "      <td>direction plot moved also note dialog stopped including poetic thoughtful line varys tyrion's wit intelligence dropped magnficant average dunderhead</td>\n",
              "      <td>0.081</td>\n",
              "      <td>0.242</td>\n",
              "      <td>0.5859</td>\n",
              "      <td>0.208333</td>\n",
              "    </tr>\n",
              "    <tr>\n",
              "      <th>2</th>\n",
              "      <td>Lazy writing towards the end.</td>\n",
              "      <td>UgxNEHssvL6RlJ9KQex4AaABAg</td>\n",
              "      <td>Charles Comeaux jr</td>\n",
              "      <td>0</td>\n",
              "      <td>0</td>\n",
              "      <td>2022-01-18</td>\n",
              "      <td>0</td>\n",
              "      <td>lazy writing towards end</td>\n",
              "      <td>0.455</td>\n",
              "      <td>0.000</td>\n",
              "      <td>-0.3612</td>\n",
              "      <td>-0.250000</td>\n",
              "    </tr>\n",
              "    <tr>\n",
              "      <th>3</th>\n",
              "      <td>Cool</td>\n",
              "      <td>Ugy638KYY2rLNdovh2V4AaABAg</td>\n",
              "      <td>Beavis Johnson</td>\n",
              "      <td>0</td>\n",
              "      <td>0</td>\n",
              "      <td>2022-01-12</td>\n",
              "      <td>0</td>\n",
              "      <td>cool</td>\n",
              "      <td>0.000</td>\n",
              "      <td>1.000</td>\n",
              "      <td>0.3182</td>\n",
              "      <td>0.350000</td>\n",
              "    </tr>\n",
              "    <tr>\n",
              "      <th>4</th>\n",
              "      <td>The night king vs people was the main plot point they just never wanted to address it. Was the first scene in the show and the last in every season</td>\n",
              "      <td>UgzJeAc28XQ3jCENR9B4AaABAg</td>\n",
              "      <td>Luke Coupland</td>\n",
              "      <td>0</td>\n",
              "      <td>0</td>\n",
              "      <td>2022-01-08</td>\n",
              "      <td>0</td>\n",
              "      <td>night king v people main plot point never wanted address first scene show last every season</td>\n",
              "      <td>0.000</td>\n",
              "      <td>0.000</td>\n",
              "      <td>0.0000</td>\n",
              "      <td>0.138889</td>\n",
              "    </tr>\n",
              "  </tbody>\n",
              "</table>\n",
              "</div>\n",
              "      <button class=\"colab-df-convert\" onclick=\"convertToInteractive('df-f946d036-c156-4b02-bfbe-3a1e382e70eb')\"\n",
              "              title=\"Convert this dataframe to an interactive table.\"\n",
              "              style=\"display:none;\">\n",
              "        \n",
              "  <svg xmlns=\"http://www.w3.org/2000/svg\" height=\"24px\"viewBox=\"0 0 24 24\"\n",
              "       width=\"24px\">\n",
              "    <path d=\"M0 0h24v24H0V0z\" fill=\"none\"/>\n",
              "    <path d=\"M18.56 5.44l.94 2.06.94-2.06 2.06-.94-2.06-.94-.94-2.06-.94 2.06-2.06.94zm-11 1L8.5 8.5l.94-2.06 2.06-.94-2.06-.94L8.5 2.5l-.94 2.06-2.06.94zm10 10l.94 2.06.94-2.06 2.06-.94-2.06-.94-.94-2.06-.94 2.06-2.06.94z\"/><path d=\"M17.41 7.96l-1.37-1.37c-.4-.4-.92-.59-1.43-.59-.52 0-1.04.2-1.43.59L10.3 9.45l-7.72 7.72c-.78.78-.78 2.05 0 2.83L4 21.41c.39.39.9.59 1.41.59.51 0 1.02-.2 1.41-.59l7.78-7.78 2.81-2.81c.8-.78.8-2.07 0-2.86zM5.41 20L4 18.59l7.72-7.72 1.47 1.35L5.41 20z\"/>\n",
              "  </svg>\n",
              "      </button>\n",
              "      \n",
              "  <style>\n",
              "    .colab-df-container {\n",
              "      display:flex;\n",
              "      flex-wrap:wrap;\n",
              "      gap: 12px;\n",
              "    }\n",
              "\n",
              "    .colab-df-convert {\n",
              "      background-color: #E8F0FE;\n",
              "      border: none;\n",
              "      border-radius: 50%;\n",
              "      cursor: pointer;\n",
              "      display: none;\n",
              "      fill: #1967D2;\n",
              "      height: 32px;\n",
              "      padding: 0 0 0 0;\n",
              "      width: 32px;\n",
              "    }\n",
              "\n",
              "    .colab-df-convert:hover {\n",
              "      background-color: #E2EBFA;\n",
              "      box-shadow: 0px 1px 2px rgba(60, 64, 67, 0.3), 0px 1px 3px 1px rgba(60, 64, 67, 0.15);\n",
              "      fill: #174EA6;\n",
              "    }\n",
              "\n",
              "    [theme=dark] .colab-df-convert {\n",
              "      background-color: #3B4455;\n",
              "      fill: #D2E3FC;\n",
              "    }\n",
              "\n",
              "    [theme=dark] .colab-df-convert:hover {\n",
              "      background-color: #434B5C;\n",
              "      box-shadow: 0px 1px 3px 1px rgba(0, 0, 0, 0.15);\n",
              "      filter: drop-shadow(0px 1px 2px rgba(0, 0, 0, 0.3));\n",
              "      fill: #FFFFFF;\n",
              "    }\n",
              "  </style>\n",
              "\n",
              "      <script>\n",
              "        const buttonEl =\n",
              "          document.querySelector('#df-f946d036-c156-4b02-bfbe-3a1e382e70eb button.colab-df-convert');\n",
              "        buttonEl.style.display =\n",
              "          google.colab.kernel.accessAllowed ? 'block' : 'none';\n",
              "\n",
              "        async function convertToInteractive(key) {\n",
              "          const element = document.querySelector('#df-f946d036-c156-4b02-bfbe-3a1e382e70eb');\n",
              "          const dataTable =\n",
              "            await google.colab.kernel.invokeFunction('convertToInteractive',\n",
              "                                                     [key], {});\n",
              "          if (!dataTable) return;\n",
              "\n",
              "          const docLinkHtml = 'Like what you see? Visit the ' +\n",
              "            '<a target=\"_blank\" href=https://colab.research.google.com/notebooks/data_table.ipynb>data table notebook</a>'\n",
              "            + ' to learn more about interactive tables.';\n",
              "          element.innerHTML = '';\n",
              "          dataTable['output_type'] = 'display_data';\n",
              "          await google.colab.output.renderOutput(dataTable, element);\n",
              "          const docLink = document.createElement('div');\n",
              "          docLink.innerHTML = docLinkHtml;\n",
              "          element.appendChild(docLink);\n",
              "        }\n",
              "      </script>\n",
              "    </div>\n",
              "  </div>\n",
              "  "
            ],
            "text/plain": [
              "                                                                                                                                                                                                                      comment  ... textblob_polarity\n",
              "0                                                                                                                                      Ur the most optimistic person in the universe and if you're piss Ed it means something  ...          0.500000\n",
              "1  It wasn't just the direction that plot moved, did you also note how the dialog stopped including poetic and thoughtful lines and how Varys and Tyrion's wit and intelligence dropped from magnficant to average dunderhead  ...          0.208333\n",
              "2                                                                                                                                                                                               Lazy writing towards the end.  ...         -0.250000\n",
              "3                                                                                                                                                                                                                        Cool  ...          0.350000\n",
              "4                                                                         The night king vs people was the main plot point they just never wanted to address it. Was the first scene in the show and the last in every season  ...          0.138889\n",
              "\n",
              "[5 rows x 12 columns]"
            ]
          },
          "metadata": {},
          "execution_count": 45
        }
      ]
    },
    {
      "cell_type": "code",
      "source": [
        "# most positive comments\n",
        "df.sort_values(by=['textblob_polarity'], ascending=False)[['comment', 'textblob_polarity']].head(10)"
      ],
      "metadata": {
        "colab": {
          "base_uri": "https://localhost:8080/",
          "height": 363
        },
        "id": "ZrPIYSUWegVK",
        "outputId": "2bd193b2-3659-4778-c3c5-c8819e4c0b04"
      },
      "execution_count": null,
      "outputs": [
        {
          "output_type": "execute_result",
          "data": {
            "text/html": [
              "\n",
              "  <div id=\"df-b96f3c34-5503-49ce-8bc7-16bf1c5c2185\">\n",
              "    <div class=\"colab-df-container\">\n",
              "      <div>\n",
              "<style scoped>\n",
              "    .dataframe tbody tr th:only-of-type {\n",
              "        vertical-align: middle;\n",
              "    }\n",
              "\n",
              "    .dataframe tbody tr th {\n",
              "        vertical-align: top;\n",
              "    }\n",
              "\n",
              "    .dataframe thead th {\n",
              "        text-align: right;\n",
              "    }\n",
              "</style>\n",
              "<table border=\"1\" class=\"dataframe\">\n",
              "  <thead>\n",
              "    <tr style=\"text-align: right;\">\n",
              "      <th></th>\n",
              "      <th>comment</th>\n",
              "      <th>textblob_polarity</th>\n",
              "    </tr>\n",
              "  </thead>\n",
              "  <tbody>\n",
              "    <tr>\n",
              "      <th>62</th>\n",
              "      <td>Tyrion is the best character and has a lot of layers</td>\n",
              "      <td>1.0</td>\n",
              "    </tr>\n",
              "    <tr>\n",
              "      <th>97</th>\n",
              "      <td>16:30 lol. Agreed</td>\n",
              "      <td>0.8</td>\n",
              "    </tr>\n",
              "    <tr>\n",
              "      <th>21</th>\n",
              "      <td>I wonder if Chris ever noticed or laughed at the Starbucks cup and bottles of water in the show so yeah Starbucks existed in Westeros.</td>\n",
              "      <td>0.7</td>\n",
              "    </tr>\n",
              "    <tr>\n",
              "      <th>80</th>\n",
              "      <td>how can Jaqen Hghar not be your favorite character?</td>\n",
              "      <td>0.5</td>\n",
              "    </tr>\n",
              "    <tr>\n",
              "      <th>36</th>\n",
              "      <td>Jon got better, he is gonna colonize beyond the wall and be the king there</td>\n",
              "      <td>0.5</td>\n",
              "    </tr>\n",
              "    <tr>\n",
              "      <th>68</th>\n",
              "      <td>It made too many set up through out the show that it can't handle all the pay off in just one season. They shouldn't end in just 8 seasons.</td>\n",
              "      <td>0.5</td>\n",
              "    </tr>\n",
              "    <tr>\n",
              "      <th>78</th>\n",
              "      <td>The sea manatees from the South Park episode parodying Family guy could have put together a better finale.</td>\n",
              "      <td>0.5</td>\n",
              "    </tr>\n",
              "    <tr>\n",
              "      <th>0</th>\n",
              "      <td>Ur the most optimistic person in the universe and if you're piss Ed it means something</td>\n",
              "      <td>0.5</td>\n",
              "    </tr>\n",
              "    <tr>\n",
              "      <th>23</th>\n",
              "      <td>Such a great video in retrospect!</td>\n",
              "      <td>0.5</td>\n",
              "    </tr>\n",
              "    <tr>\n",
              "      <th>93</th>\n",
              "      <td>I think if they give us some more info about choices that they are making with more episodes it would have made sense.</td>\n",
              "      <td>0.5</td>\n",
              "    </tr>\n",
              "  </tbody>\n",
              "</table>\n",
              "</div>\n",
              "      <button class=\"colab-df-convert\" onclick=\"convertToInteractive('df-b96f3c34-5503-49ce-8bc7-16bf1c5c2185')\"\n",
              "              title=\"Convert this dataframe to an interactive table.\"\n",
              "              style=\"display:none;\">\n",
              "        \n",
              "  <svg xmlns=\"http://www.w3.org/2000/svg\" height=\"24px\"viewBox=\"0 0 24 24\"\n",
              "       width=\"24px\">\n",
              "    <path d=\"M0 0h24v24H0V0z\" fill=\"none\"/>\n",
              "    <path d=\"M18.56 5.44l.94 2.06.94-2.06 2.06-.94-2.06-.94-.94-2.06-.94 2.06-2.06.94zm-11 1L8.5 8.5l.94-2.06 2.06-.94-2.06-.94L8.5 2.5l-.94 2.06-2.06.94zm10 10l.94 2.06.94-2.06 2.06-.94-2.06-.94-.94-2.06-.94 2.06-2.06.94z\"/><path d=\"M17.41 7.96l-1.37-1.37c-.4-.4-.92-.59-1.43-.59-.52 0-1.04.2-1.43.59L10.3 9.45l-7.72 7.72c-.78.78-.78 2.05 0 2.83L4 21.41c.39.39.9.59 1.41.59.51 0 1.02-.2 1.41-.59l7.78-7.78 2.81-2.81c.8-.78.8-2.07 0-2.86zM5.41 20L4 18.59l7.72-7.72 1.47 1.35L5.41 20z\"/>\n",
              "  </svg>\n",
              "      </button>\n",
              "      \n",
              "  <style>\n",
              "    .colab-df-container {\n",
              "      display:flex;\n",
              "      flex-wrap:wrap;\n",
              "      gap: 12px;\n",
              "    }\n",
              "\n",
              "    .colab-df-convert {\n",
              "      background-color: #E8F0FE;\n",
              "      border: none;\n",
              "      border-radius: 50%;\n",
              "      cursor: pointer;\n",
              "      display: none;\n",
              "      fill: #1967D2;\n",
              "      height: 32px;\n",
              "      padding: 0 0 0 0;\n",
              "      width: 32px;\n",
              "    }\n",
              "\n",
              "    .colab-df-convert:hover {\n",
              "      background-color: #E2EBFA;\n",
              "      box-shadow: 0px 1px 2px rgba(60, 64, 67, 0.3), 0px 1px 3px 1px rgba(60, 64, 67, 0.15);\n",
              "      fill: #174EA6;\n",
              "    }\n",
              "\n",
              "    [theme=dark] .colab-df-convert {\n",
              "      background-color: #3B4455;\n",
              "      fill: #D2E3FC;\n",
              "    }\n",
              "\n",
              "    [theme=dark] .colab-df-convert:hover {\n",
              "      background-color: #434B5C;\n",
              "      box-shadow: 0px 1px 3px 1px rgba(0, 0, 0, 0.15);\n",
              "      filter: drop-shadow(0px 1px 2px rgba(0, 0, 0, 0.3));\n",
              "      fill: #FFFFFF;\n",
              "    }\n",
              "  </style>\n",
              "\n",
              "      <script>\n",
              "        const buttonEl =\n",
              "          document.querySelector('#df-b96f3c34-5503-49ce-8bc7-16bf1c5c2185 button.colab-df-convert');\n",
              "        buttonEl.style.display =\n",
              "          google.colab.kernel.accessAllowed ? 'block' : 'none';\n",
              "\n",
              "        async function convertToInteractive(key) {\n",
              "          const element = document.querySelector('#df-b96f3c34-5503-49ce-8bc7-16bf1c5c2185');\n",
              "          const dataTable =\n",
              "            await google.colab.kernel.invokeFunction('convertToInteractive',\n",
              "                                                     [key], {});\n",
              "          if (!dataTable) return;\n",
              "\n",
              "          const docLinkHtml = 'Like what you see? Visit the ' +\n",
              "            '<a target=\"_blank\" href=https://colab.research.google.com/notebooks/data_table.ipynb>data table notebook</a>'\n",
              "            + ' to learn more about interactive tables.';\n",
              "          element.innerHTML = '';\n",
              "          dataTable['output_type'] = 'display_data';\n",
              "          await google.colab.output.renderOutput(dataTable, element);\n",
              "          const docLink = document.createElement('div');\n",
              "          docLink.innerHTML = docLinkHtml;\n",
              "          element.appendChild(docLink);\n",
              "        }\n",
              "      </script>\n",
              "    </div>\n",
              "  </div>\n",
              "  "
            ],
            "text/plain": [
              "                                                                                                                                        comment  textblob_polarity\n",
              "62                                                                                         Tyrion is the best character and has a lot of layers                1.0\n",
              "97                                                                                                                            16:30 lol. Agreed                0.8\n",
              "21       I wonder if Chris ever noticed or laughed at the Starbucks cup and bottles of water in the show so yeah Starbucks existed in Westeros.                0.7\n",
              "80                                                                                          how can Jaqen Hghar not be your favorite character?                0.5\n",
              "36                                                                   Jon got better, he is gonna colonize beyond the wall and be the king there                0.5\n",
              "68  It made too many set up through out the show that it can't handle all the pay off in just one season. They shouldn't end in just 8 seasons.                0.5\n",
              "78                                   The sea manatees from the South Park episode parodying Family guy could have put together a better finale.                0.5\n",
              "0                                                        Ur the most optimistic person in the universe and if you're piss Ed it means something                0.5\n",
              "23                                                                                                            Such a great video in retrospect!                0.5\n",
              "93                       I think if they give us some more info about choices that they are making with more episodes it would have made sense.                0.5"
            ]
          },
          "metadata": {},
          "execution_count": 46
        }
      ]
    },
    {
      "cell_type": "markdown",
      "source": [
        "row 78: \"The sea manatees from the South Park episode parodying Family guy could have put together a better finale.\" does not look to me like a positive comment"
      ],
      "metadata": {
        "id": "uQeqLgGtfYGM"
      }
    },
    {
      "cell_type": "code",
      "source": [
        "# most negative comments\n",
        "df.sort_values(by=['textblob_polarity'], ascending=True)[['comment', 'textblob_polarity']].head(10)"
      ],
      "metadata": {
        "colab": {
          "base_uri": "https://localhost:8080/",
          "height": 424
        },
        "id": "sf_6Pi3UfMzZ",
        "outputId": "26700e94-974b-433e-cdf0-b9439e3bf691"
      },
      "execution_count": null,
      "outputs": [
        {
          "output_type": "execute_result",
          "data": {
            "text/html": [
              "\n",
              "  <div id=\"df-2c6351bb-647a-4ed9-8e1b-abfc2720d8e4\">\n",
              "    <div class=\"colab-df-container\">\n",
              "      <div>\n",
              "<style scoped>\n",
              "    .dataframe tbody tr th:only-of-type {\n",
              "        vertical-align: middle;\n",
              "    }\n",
              "\n",
              "    .dataframe tbody tr th {\n",
              "        vertical-align: top;\n",
              "    }\n",
              "\n",
              "    .dataframe thead th {\n",
              "        text-align: right;\n",
              "    }\n",
              "</style>\n",
              "<table border=\"1\" class=\"dataframe\">\n",
              "  <thead>\n",
              "    <tr style=\"text-align: right;\">\n",
              "      <th></th>\n",
              "      <th>comment</th>\n",
              "      <th>textblob_polarity</th>\n",
              "    </tr>\n",
              "  </thead>\n",
              "  <tbody>\n",
              "    <tr>\n",
              "      <th>98</th>\n",
              "      <td>Sorry, but if I would describe season 8 with one word it would be \"anticlimatic\"</td>\n",
              "      <td>-0.500000</td>\n",
              "    </tr>\n",
              "    <tr>\n",
              "      <th>71</th>\n",
              "      <td>The White Walkers were stupidly overpowered</td>\n",
              "      <td>-0.400000</td>\n",
              "    </tr>\n",
              "    <tr>\n",
              "      <th>67</th>\n",
              "      <td>The whole Jaime not giving a shit about the people of Kings Landing thing was just the worst.  Dude murdered the Mad King because he wanted to burn the city.  They had to ignore a LOT of stuff to get to the places they went.  It needed at least another season to tell the story it told.</td>\n",
              "      <td>-0.385000</td>\n",
              "    </tr>\n",
              "    <tr>\n",
              "      <th>86</th>\n",
              "      <td>This dudes an idiot. Battle of the bastards was one of my least favourite episodes. Full of plot armour and stupid illogical decisions that didn't happen in earlier seasons. Casual</td>\n",
              "      <td>-0.341667</td>\n",
              "    </tr>\n",
              "    <tr>\n",
              "      <th>39</th>\n",
              "      <td>I think the biggest let down for me was the conclusion of the white walkers… so disappointing</td>\n",
              "      <td>-0.251852</td>\n",
              "    </tr>\n",
              "    <tr>\n",
              "      <th>2</th>\n",
              "      <td>Lazy writing towards the end.</td>\n",
              "      <td>-0.250000</td>\n",
              "    </tr>\n",
              "    <tr>\n",
              "      <th>54</th>\n",
              "      <td>All through the pandemic I didn’t watch a single episode of game of thrones. It is not a rewatchable show</td>\n",
              "      <td>-0.235714</td>\n",
              "    </tr>\n",
              "    <tr>\n",
              "      <th>65</th>\n",
              "      <td>bran was named after a bran flake. plain and flavourless</td>\n",
              "      <td>-0.214286</td>\n",
              "    </tr>\n",
              "    <tr>\n",
              "      <th>25</th>\n",
              "      <td>i would rather see joffrey rise from the dead marry sansa and sit in the iron trone than see that biiitch boy bran sit on that throne</td>\n",
              "      <td>-0.200000</td>\n",
              "    </tr>\n",
              "    <tr>\n",
              "      <th>18</th>\n",
              "      <td>GoT is dead to me.</td>\n",
              "      <td>-0.200000</td>\n",
              "    </tr>\n",
              "  </tbody>\n",
              "</table>\n",
              "</div>\n",
              "      <button class=\"colab-df-convert\" onclick=\"convertToInteractive('df-2c6351bb-647a-4ed9-8e1b-abfc2720d8e4')\"\n",
              "              title=\"Convert this dataframe to an interactive table.\"\n",
              "              style=\"display:none;\">\n",
              "        \n",
              "  <svg xmlns=\"http://www.w3.org/2000/svg\" height=\"24px\"viewBox=\"0 0 24 24\"\n",
              "       width=\"24px\">\n",
              "    <path d=\"M0 0h24v24H0V0z\" fill=\"none\"/>\n",
              "    <path d=\"M18.56 5.44l.94 2.06.94-2.06 2.06-.94-2.06-.94-.94-2.06-.94 2.06-2.06.94zm-11 1L8.5 8.5l.94-2.06 2.06-.94-2.06-.94L8.5 2.5l-.94 2.06-2.06.94zm10 10l.94 2.06.94-2.06 2.06-.94-2.06-.94-.94-2.06-.94 2.06-2.06.94z\"/><path d=\"M17.41 7.96l-1.37-1.37c-.4-.4-.92-.59-1.43-.59-.52 0-1.04.2-1.43.59L10.3 9.45l-7.72 7.72c-.78.78-.78 2.05 0 2.83L4 21.41c.39.39.9.59 1.41.59.51 0 1.02-.2 1.41-.59l7.78-7.78 2.81-2.81c.8-.78.8-2.07 0-2.86zM5.41 20L4 18.59l7.72-7.72 1.47 1.35L5.41 20z\"/>\n",
              "  </svg>\n",
              "      </button>\n",
              "      \n",
              "  <style>\n",
              "    .colab-df-container {\n",
              "      display:flex;\n",
              "      flex-wrap:wrap;\n",
              "      gap: 12px;\n",
              "    }\n",
              "\n",
              "    .colab-df-convert {\n",
              "      background-color: #E8F0FE;\n",
              "      border: none;\n",
              "      border-radius: 50%;\n",
              "      cursor: pointer;\n",
              "      display: none;\n",
              "      fill: #1967D2;\n",
              "      height: 32px;\n",
              "      padding: 0 0 0 0;\n",
              "      width: 32px;\n",
              "    }\n",
              "\n",
              "    .colab-df-convert:hover {\n",
              "      background-color: #E2EBFA;\n",
              "      box-shadow: 0px 1px 2px rgba(60, 64, 67, 0.3), 0px 1px 3px 1px rgba(60, 64, 67, 0.15);\n",
              "      fill: #174EA6;\n",
              "    }\n",
              "\n",
              "    [theme=dark] .colab-df-convert {\n",
              "      background-color: #3B4455;\n",
              "      fill: #D2E3FC;\n",
              "    }\n",
              "\n",
              "    [theme=dark] .colab-df-convert:hover {\n",
              "      background-color: #434B5C;\n",
              "      box-shadow: 0px 1px 3px 1px rgba(0, 0, 0, 0.15);\n",
              "      filter: drop-shadow(0px 1px 2px rgba(0, 0, 0, 0.3));\n",
              "      fill: #FFFFFF;\n",
              "    }\n",
              "  </style>\n",
              "\n",
              "      <script>\n",
              "        const buttonEl =\n",
              "          document.querySelector('#df-2c6351bb-647a-4ed9-8e1b-abfc2720d8e4 button.colab-df-convert');\n",
              "        buttonEl.style.display =\n",
              "          google.colab.kernel.accessAllowed ? 'block' : 'none';\n",
              "\n",
              "        async function convertToInteractive(key) {\n",
              "          const element = document.querySelector('#df-2c6351bb-647a-4ed9-8e1b-abfc2720d8e4');\n",
              "          const dataTable =\n",
              "            await google.colab.kernel.invokeFunction('convertToInteractive',\n",
              "                                                     [key], {});\n",
              "          if (!dataTable) return;\n",
              "\n",
              "          const docLinkHtml = 'Like what you see? Visit the ' +\n",
              "            '<a target=\"_blank\" href=https://colab.research.google.com/notebooks/data_table.ipynb>data table notebook</a>'\n",
              "            + ' to learn more about interactive tables.';\n",
              "          element.innerHTML = '';\n",
              "          dataTable['output_type'] = 'display_data';\n",
              "          await google.colab.output.renderOutput(dataTable, element);\n",
              "          const docLink = document.createElement('div');\n",
              "          docLink.innerHTML = docLinkHtml;\n",
              "          element.appendChild(docLink);\n",
              "        }\n",
              "      </script>\n",
              "    </div>\n",
              "  </div>\n",
              "  "
            ],
            "text/plain": [
              "                                                                                                                                                                                                                                                                                           comment  textblob_polarity\n",
              "98                                                                                                                                                                                                                Sorry, but if I would describe season 8 with one word it would be \"anticlimatic\"          -0.500000\n",
              "71                                                                                                                                                                                                                                                     The White Walkers were stupidly overpowered          -0.400000\n",
              "67  The whole Jaime not giving a shit about the people of Kings Landing thing was just the worst.  Dude murdered the Mad King because he wanted to burn the city.  They had to ignore a LOT of stuff to get to the places they went.  It needed at least another season to tell the story it told.          -0.385000\n",
              "86                                                                                                            This dudes an idiot. Battle of the bastards was one of my least favourite episodes. Full of plot armour and stupid illogical decisions that didn't happen in earlier seasons. Casual          -0.341667\n",
              "39                                                                                                                                                                                                   I think the biggest let down for me was the conclusion of the white walkers… so disappointing          -0.251852\n",
              "2                                                                                                                                                                                                                                                                    Lazy writing towards the end.          -0.250000\n",
              "54                                                                                                                                                                                       All through the pandemic I didn’t watch a single episode of game of thrones. It is not a rewatchable show          -0.235714\n",
              "65                                                                                                                                                                                                                                        bran was named after a bran flake. plain and flavourless          -0.214286\n",
              "25                                                                                                                                                           i would rather see joffrey rise from the dead marry sansa and sit in the iron trone than see that biiitch boy bran sit on that throne          -0.200000\n",
              "18                                                                                                                                                                                                                                                                              GoT is dead to me.          -0.200000"
            ]
          },
          "metadata": {},
          "execution_count": 47
        }
      ]
    },
    {
      "cell_type": "markdown",
      "source": [
        "# Exploration"
      ],
      "metadata": {
        "id": "NxohGvrVu5eh"
      }
    },
    {
      "cell_type": "code",
      "source": [
        "df.sort_values(by=['like_count'], ascending=False)[['comment']].head(10)"
      ],
      "metadata": {
        "colab": {
          "base_uri": "https://localhost:8080/",
          "height": 441
        },
        "id": "8E2jYTTlgYtg",
        "outputId": "02ed193e-9db4-4368-c003-9bffee6d0da9"
      },
      "execution_count": null,
      "outputs": [
        {
          "output_type": "execute_result",
          "data": {
            "text/html": [
              "\n",
              "  <div id=\"df-dbd68a32-0002-438b-b76d-3d2fdc9b720e\">\n",
              "    <div class=\"colab-df-container\">\n",
              "      <div>\n",
              "<style scoped>\n",
              "    .dataframe tbody tr th:only-of-type {\n",
              "        vertical-align: middle;\n",
              "    }\n",
              "\n",
              "    .dataframe tbody tr th {\n",
              "        vertical-align: top;\n",
              "    }\n",
              "\n",
              "    .dataframe thead th {\n",
              "        text-align: right;\n",
              "    }\n",
              "</style>\n",
              "<table border=\"1\" class=\"dataframe\">\n",
              "  <thead>\n",
              "    <tr style=\"text-align: right;\">\n",
              "      <th></th>\n",
              "      <th>comment</th>\n",
              "    </tr>\n",
              "  </thead>\n",
              "  <tbody>\n",
              "    <tr>\n",
              "      <th>42</th>\n",
              "      <td>The writers also canceled their panel interview from fans after all the backlash. They were too scared to face the fans.</td>\n",
              "    </tr>\n",
              "    <tr>\n",
              "      <th>76</th>\n",
              "      <td>My heart hurts every time I hear about this show. I've seriously only watched 3-6 ONE TIME. Season 8 ep 2 is easily the last episode that felt like GOT. Spent 8 years on this show smh breaking bad would've never done this to me</td>\n",
              "    </tr>\n",
              "    <tr>\n",
              "      <th>23</th>\n",
              "      <td>Such a great video in retrospect!</td>\n",
              "    </tr>\n",
              "    <tr>\n",
              "      <th>84</th>\n",
              "      <td>Like it or not, Bran was the only character who had \"no skin in the game [of thrones]\". Yes, he had been mamed by Jamie, but as he kept saying truthfully, he was no longer that person. Bran was -- like it or not - the only character who would have no old grudges to settle or any old enemies seek...</td>\n",
              "    </tr>\n",
              "    <tr>\n",
              "      <th>35</th>\n",
              "      <td>All the suspense Which was made in previous seasons means nothing in season 8</td>\n",
              "    </tr>\n",
              "    <tr>\n",
              "      <th>41</th>\n",
              "      <td>100% agree with you on Bran. Cannot stand that charactor and brought nothing to the series</td>\n",
              "    </tr>\n",
              "    <tr>\n",
              "      <th>74</th>\n",
              "      <td>They beat the White Walkers before Cersei. Therefore, the throne was more important, than the Army of the Dead.</td>\n",
              "    </tr>\n",
              "    <tr>\n",
              "      <th>58</th>\n",
              "      <td>18:15—😂caught me off guard, inconsolably laughing right now!!</td>\n",
              "    </tr>\n",
              "    <tr>\n",
              "      <th>73</th>\n",
              "      <td>Man I know this review came out two years ago but what about those children of the forest folks, their character design became so lame from one season to the next haha</td>\n",
              "    </tr>\n",
              "    <tr>\n",
              "      <th>71</th>\n",
              "      <td>The White Walkers were stupidly overpowered</td>\n",
              "    </tr>\n",
              "  </tbody>\n",
              "</table>\n",
              "</div>\n",
              "      <button class=\"colab-df-convert\" onclick=\"convertToInteractive('df-dbd68a32-0002-438b-b76d-3d2fdc9b720e')\"\n",
              "              title=\"Convert this dataframe to an interactive table.\"\n",
              "              style=\"display:none;\">\n",
              "        \n",
              "  <svg xmlns=\"http://www.w3.org/2000/svg\" height=\"24px\"viewBox=\"0 0 24 24\"\n",
              "       width=\"24px\">\n",
              "    <path d=\"M0 0h24v24H0V0z\" fill=\"none\"/>\n",
              "    <path d=\"M18.56 5.44l.94 2.06.94-2.06 2.06-.94-2.06-.94-.94-2.06-.94 2.06-2.06.94zm-11 1L8.5 8.5l.94-2.06 2.06-.94-2.06-.94L8.5 2.5l-.94 2.06-2.06.94zm10 10l.94 2.06.94-2.06 2.06-.94-2.06-.94-.94-2.06-.94 2.06-2.06.94z\"/><path d=\"M17.41 7.96l-1.37-1.37c-.4-.4-.92-.59-1.43-.59-.52 0-1.04.2-1.43.59L10.3 9.45l-7.72 7.72c-.78.78-.78 2.05 0 2.83L4 21.41c.39.39.9.59 1.41.59.51 0 1.02-.2 1.41-.59l7.78-7.78 2.81-2.81c.8-.78.8-2.07 0-2.86zM5.41 20L4 18.59l7.72-7.72 1.47 1.35L5.41 20z\"/>\n",
              "  </svg>\n",
              "      </button>\n",
              "      \n",
              "  <style>\n",
              "    .colab-df-container {\n",
              "      display:flex;\n",
              "      flex-wrap:wrap;\n",
              "      gap: 12px;\n",
              "    }\n",
              "\n",
              "    .colab-df-convert {\n",
              "      background-color: #E8F0FE;\n",
              "      border: none;\n",
              "      border-radius: 50%;\n",
              "      cursor: pointer;\n",
              "      display: none;\n",
              "      fill: #1967D2;\n",
              "      height: 32px;\n",
              "      padding: 0 0 0 0;\n",
              "      width: 32px;\n",
              "    }\n",
              "\n",
              "    .colab-df-convert:hover {\n",
              "      background-color: #E2EBFA;\n",
              "      box-shadow: 0px 1px 2px rgba(60, 64, 67, 0.3), 0px 1px 3px 1px rgba(60, 64, 67, 0.15);\n",
              "      fill: #174EA6;\n",
              "    }\n",
              "\n",
              "    [theme=dark] .colab-df-convert {\n",
              "      background-color: #3B4455;\n",
              "      fill: #D2E3FC;\n",
              "    }\n",
              "\n",
              "    [theme=dark] .colab-df-convert:hover {\n",
              "      background-color: #434B5C;\n",
              "      box-shadow: 0px 1px 3px 1px rgba(0, 0, 0, 0.15);\n",
              "      filter: drop-shadow(0px 1px 2px rgba(0, 0, 0, 0.3));\n",
              "      fill: #FFFFFF;\n",
              "    }\n",
              "  </style>\n",
              "\n",
              "      <script>\n",
              "        const buttonEl =\n",
              "          document.querySelector('#df-dbd68a32-0002-438b-b76d-3d2fdc9b720e button.colab-df-convert');\n",
              "        buttonEl.style.display =\n",
              "          google.colab.kernel.accessAllowed ? 'block' : 'none';\n",
              "\n",
              "        async function convertToInteractive(key) {\n",
              "          const element = document.querySelector('#df-dbd68a32-0002-438b-b76d-3d2fdc9b720e');\n",
              "          const dataTable =\n",
              "            await google.colab.kernel.invokeFunction('convertToInteractive',\n",
              "                                                     [key], {});\n",
              "          if (!dataTable) return;\n",
              "\n",
              "          const docLinkHtml = 'Like what you see? Visit the ' +\n",
              "            '<a target=\"_blank\" href=https://colab.research.google.com/notebooks/data_table.ipynb>data table notebook</a>'\n",
              "            + ' to learn more about interactive tables.';\n",
              "          element.innerHTML = '';\n",
              "          dataTable['output_type'] = 'display_data';\n",
              "          await google.colab.output.renderOutput(dataTable, element);\n",
              "          const docLink = document.createElement('div');\n",
              "          docLink.innerHTML = docLinkHtml;\n",
              "          element.appendChild(docLink);\n",
              "        }\n",
              "      </script>\n",
              "    </div>\n",
              "  </div>\n",
              "  "
            ],
            "text/plain": [
              "                                                                                                                                                                                                                                                                                                        comment\n",
              "42                                                                                                                                                                                     The writers also canceled their panel interview from fans after all the backlash. They were too scared to face the fans.\n",
              "76                                                                          My heart hurts every time I hear about this show. I've seriously only watched 3-6 ONE TIME. Season 8 ep 2 is easily the last episode that felt like GOT. Spent 8 years on this show smh breaking bad would've never done this to me\n",
              "23                                                                                                                                                                                                                                                                            Such a great video in retrospect!\n",
              "84  Like it or not, Bran was the only character who had \"no skin in the game [of thrones]\". Yes, he had been mamed by Jamie, but as he kept saying truthfully, he was no longer that person. Bran was -- like it or not - the only character who would have no old grudges to settle or any old enemies seek...\n",
              "35                                                                                                                                                                                                                                All the suspense Which was made in previous seasons means nothing in season 8\n",
              "41                                                                                                                                                                                                                   100% agree with you on Bran. Cannot stand that charactor and brought nothing to the series\n",
              "74                                                                                                                                                                                              They beat the White Walkers before Cersei. Therefore, the throne was more important, than the Army of the Dead.\n",
              "58                                                                                                                                                                                                                                                18:15—😂caught me off guard, inconsolably laughing right now!!\n",
              "73                                                                                                                                      Man I know this review came out two years ago but what about those children of the forest folks, their character design became so lame from one season to the next haha\n",
              "71                                                                                                                                                                                                                                                                  The White Walkers were stupidly overpowered"
            ]
          },
          "metadata": {},
          "execution_count": 111
        }
      ]
    },
    {
      "cell_type": "code",
      "source": [
        "# comparison of textblob and vader sentiment distribution\n",
        "sub = df[['comment', 'textblob_polarity', 'vader_comp_sentiment', 'date']]\n",
        "pol_hist = sub.melt(id_vars=['comment', 'date'], value_vars=['textblob_polarity', 'vader_comp_sentiment'], var_name='method', value_name='sentiment')\n",
        "sns.displot(pol_hist, x=\"sentiment\",hue=\"method\", element=\"step\")"
      ],
      "metadata": {
        "colab": {
          "base_uri": "https://localhost:8080/",
          "height": 383
        },
        "id": "9sWCckTZEys7",
        "outputId": "9f2f2bf5-8d04-4308-fcc6-926fbf0d66fd"
      },
      "execution_count": null,
      "outputs": [
        {
          "output_type": "execute_result",
          "data": {
            "text/plain": [
              "<seaborn.axisgrid.FacetGrid at 0x7f61e28de810>"
            ]
          },
          "metadata": {},
          "execution_count": 53
        },
        {
          "output_type": "display_data",
          "data": {
            "image/png": "[encoded data removed]",
            "text/plain": [
              "<Figure size 529.1x360 with 1 Axes>"
            ]
          },
          "metadata": {}
        }
      ]
    },
    {
      "cell_type": "markdown",
      "source": [
        "Textblob has more comments on the less negative & positive side which is not accurate since most of the comments are negative"
      ],
      "metadata": {
        "id": "IUETuskexRVa"
      }
    },
    {
      "cell_type": "code",
      "source": [
        "# sentiments over time \n",
        "sns.set(rc={'figure.figsize':(20,9)})\n",
        "sns.lineplot(x=\"date\", y=\"sentiment\", hue=\"method\", data=pol_hist) \n"
      ],
      "metadata": {
        "colab": {
          "base_uri": "https://localhost:8080/",
          "height": 575
        },
        "id": "aSuF4CpnwB1J",
        "outputId": "7d501e84-f4ec-48f8-d4d0-8c4bca28f2a0"
      },
      "execution_count": null,
      "outputs": [
        {
          "output_type": "execute_result",
          "data": {
            "text/plain": [
              "<matplotlib.axes._subplots.AxesSubplot at 0x7f61e2953e10>"
            ]
          },
          "metadata": {},
          "execution_count": 56
        },
        {
          "output_type": "display_data",
          "data": {
            "image/png": "[encoded data removed]",
            "text/plain": [
              "<Figure size 1440x648 with 1 Axes>"
            ]
          },
          "metadata": {}
        }
      ]
    },
    {
      "cell_type": "code",
      "source": [
        ""
      ],
      "metadata": {
        "id": "pmGGP-XszWky"
      },
      "execution_count": null,
      "outputs": []
    }
  ]
}