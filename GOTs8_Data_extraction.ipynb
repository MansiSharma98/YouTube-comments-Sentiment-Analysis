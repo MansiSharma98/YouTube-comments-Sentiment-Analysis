{
  "nbformat": 4,
  "nbformat_minor": 0,
  "metadata": {
    "colab": {
      "name": "GOTs8_Data extraction.ipynb",
      "provenance": [],
      "collapsed_sections": []
    },
    "kernelspec": {
      "name": "python3",
      "display_name": "Python 3"
    },
    "language_info": {
      "name": "python"
    }
  },
  "cells": [
    {
      "cell_type": "markdown",
      "source": [
        "# Extracting Youtube comments from YouTube API"
      ],
      "metadata": {
        "id": "mEreCiTm6tIX"
      }
    },
    {
      "cell_type": "code",
      "execution_count": null,
      "metadata": {
        "colab": {
          "base_uri": "https://localhost:8080/"
        },
        "id": "f89zdSGsTcUZ",
        "outputId": "98a3b6b0-4704-4a1f-f577-b1f2c3160dc9"
      },
      "outputs": [
        {
          "output_type": "stream",
          "name": "stdout",
          "text": [
            "Requirement already satisfied: google-api-python-client in /usr/local/lib/python3.7/dist-packages (1.12.10)\n",
            "Collecting google-api-python-client\n",
            "  Downloading google_api_python_client-2.36.0-py2.py3-none-any.whl (8.0 MB)\n",
            "\u001b[K     |████████████████████████████████| 8.0 MB 14.7 MB/s \n",
            "\u001b[?25hRequirement already satisfied: google-api-core<3.0.0dev,>=1.21.0 in /usr/local/lib/python3.7/dist-packages (from google-api-python-client) (1.26.3)\n",
            "Collecting google-auth-httplib2>=0.1.0\n",
            "  Downloading google_auth_httplib2-0.1.0-py2.py3-none-any.whl (9.3 kB)\n",
            "Requirement already satisfied: google-auth<3.0.0dev,>=1.16.0 in /usr/local/lib/python3.7/dist-packages (from google-api-python-client) (1.35.0)\n",
            "Requirement already satisfied: httplib2<1dev,>=0.15.0 in /usr/local/lib/python3.7/dist-packages (from google-api-python-client) (0.17.4)\n",
            "Requirement already satisfied: uritemplate<5,>=3.0.1 in /usr/local/lib/python3.7/dist-packages (from google-api-python-client) (3.0.1)\n",
            "Requirement already satisfied: packaging>=14.3 in /usr/local/lib/python3.7/dist-packages (from google-api-core<3.0.0dev,>=1.21.0->google-api-python-client) (21.3)\n",
            "Requirement already satisfied: googleapis-common-protos<2.0dev,>=1.6.0 in /usr/local/lib/python3.7/dist-packages (from google-api-core<3.0.0dev,>=1.21.0->google-api-python-client) (1.54.0)\n",
            "Requirement already satisfied: requests<3.0.0dev,>=2.18.0 in /usr/local/lib/python3.7/dist-packages (from google-api-core<3.0.0dev,>=1.21.0->google-api-python-client) (2.23.0)\n",
            "Requirement already satisfied: setuptools>=40.3.0 in /usr/local/lib/python3.7/dist-packages (from google-api-core<3.0.0dev,>=1.21.0->google-api-python-client) (57.4.0)\n",
            "Requirement already satisfied: pytz in /usr/local/lib/python3.7/dist-packages (from google-api-core<3.0.0dev,>=1.21.0->google-api-python-client) (2018.9)\n",
            "Requirement already satisfied: six>=1.13.0 in /usr/local/lib/python3.7/dist-packages (from google-api-core<3.0.0dev,>=1.21.0->google-api-python-client) (1.15.0)\n",
            "Requirement already satisfied: protobuf>=3.12.0 in /usr/local/lib/python3.7/dist-packages (from google-api-core<3.0.0dev,>=1.21.0->google-api-python-client) (3.17.3)\n",
            "Requirement already satisfied: rsa<5,>=3.1.4 in /usr/local/lib/python3.7/dist-packages (from google-auth<3.0.0dev,>=1.16.0->google-api-python-client) (4.8)\n",
            "Requirement already satisfied: pyasn1-modules>=0.2.1 in /usr/local/lib/python3.7/dist-packages (from google-auth<3.0.0dev,>=1.16.0->google-api-python-client) (0.2.8)\n",
            "Requirement already satisfied: cachetools<5.0,>=2.0.0 in /usr/local/lib/python3.7/dist-packages (from google-auth<3.0.0dev,>=1.16.0->google-api-python-client) (4.2.4)\n",
            "Requirement already satisfied: pyparsing!=3.0.5,>=2.0.2 in /usr/local/lib/python3.7/dist-packages (from packaging>=14.3->google-api-core<3.0.0dev,>=1.21.0->google-api-python-client) (3.0.7)\n",
            "Requirement already satisfied: pyasn1<0.5.0,>=0.4.6 in /usr/local/lib/python3.7/dist-packages (from pyasn1-modules>=0.2.1->google-auth<3.0.0dev,>=1.16.0->google-api-python-client) (0.4.8)\n",
            "Requirement already satisfied: certifi>=2017.4.17 in /usr/local/lib/python3.7/dist-packages (from requests<3.0.0dev,>=2.18.0->google-api-core<3.0.0dev,>=1.21.0->google-api-python-client) (2021.10.8)\n",
            "Requirement already satisfied: idna<3,>=2.5 in /usr/local/lib/python3.7/dist-packages (from requests<3.0.0dev,>=2.18.0->google-api-core<3.0.0dev,>=1.21.0->google-api-python-client) (2.10)\n",
            "Requirement already satisfied: chardet<4,>=3.0.2 in /usr/local/lib/python3.7/dist-packages (from requests<3.0.0dev,>=2.18.0->google-api-core<3.0.0dev,>=1.21.0->google-api-python-client) (3.0.4)\n",
            "Requirement already satisfied: urllib3!=1.25.0,!=1.25.1,<1.26,>=1.21.1 in /usr/local/lib/python3.7/dist-packages (from requests<3.0.0dev,>=2.18.0->google-api-core<3.0.0dev,>=1.21.0->google-api-python-client) (1.24.3)\n",
            "Installing collected packages: google-auth-httplib2, google-api-python-client\n",
            "  Attempting uninstall: google-auth-httplib2\n",
            "    Found existing installation: google-auth-httplib2 0.0.4\n",
            "    Uninstalling google-auth-httplib2-0.0.4:\n",
            "      Successfully uninstalled google-auth-httplib2-0.0.4\n",
            "  Attempting uninstall: google-api-python-client\n",
            "    Found existing installation: google-api-python-client 1.12.10\n",
            "    Uninstalling google-api-python-client-1.12.10:\n",
            "      Successfully uninstalled google-api-python-client-1.12.10\n",
            "\u001b[31mERROR: pip's dependency resolver does not currently take into account all the packages that are installed. This behaviour is the source of the following dependency conflicts.\n",
            "earthengine-api 0.1.296 requires google-api-python-client<2,>=1.12.1, but you have google-api-python-client 2.36.0 which is incompatible.\u001b[0m\n",
            "Successfully installed google-api-python-client-2.36.0 google-auth-httplib2-0.1.0\n"
          ]
        }
      ],
      "source": [
        "pip install --upgrade google-api-python-client"
      ]
    },
    {
      "cell_type": "code",
      "source": [
        "from apiclient.discovery import build"
      ],
      "metadata": {
        "id": "OaORrOufevMK"
      },
      "execution_count": null,
      "outputs": []
    },
    {
      "cell_type": "code",
      "source": [
        "key = 'xxxx'\n",
        "videoId = '0u_zNDQIeHk'"
      ],
      "metadata": {
        "id": "_QLEKVrdkEMX"
      },
      "execution_count": null,
      "outputs": []
    },
    {
      "cell_type": "code",
      "source": [
        "import pandas as pd\n",
        "pd.set_option('display.max_colwidth', 300)"
      ],
      "metadata": {
        "id": "EdZIZWnk7Hny"
      },
      "execution_count": null,
      "outputs": []
    },
    {
      "cell_type": "code",
      "source": [
        "def build_service():\n",
        "    YOUTUBE_API_SERVICE_NAME = \"youtube\"\n",
        "    YOUTUBE_API_VERSION = \"v3\"\n",
        "    return build(YOUTUBE_API_SERVICE_NAME,\n",
        "                 YOUTUBE_API_VERSION,\n",
        "                 developerKey=key)"
      ],
      "metadata": {
        "id": "To7pm6sskX5Q"
      },
      "execution_count": null,
      "outputs": []
    },
    {
      "cell_type": "code",
      "source": [
        "# configure function parameters for required variables to pass to service\n",
        "def get_comments( part='snippet', videoId=videoId, maxResults=100, textFormat='plainText', order='time'):\n",
        "    \n",
        "    # build our service from path/to/apikey\n",
        "    service = build_service()\n",
        "    \n",
        "    # make an API call using our service\n",
        "    response = service.commentThreads().list(\n",
        "        part='snippet', \n",
        "        videoId=videoId,                      \n",
        "        maxResults=100, \n",
        "        textFormat='plainText',\n",
        "        order='time'\n",
        "    ).execute()\n",
        "\n",
        "    # create empty lists to store desired information\n",
        "    comments, commentsId, authorurls, authornames, repliesCount, likesCount, viewerRating, dates, totalReplyCounts = [], [], [], [], [], [], [], [], []\n",
        "\n",
        "    while response: # this loop will continue to run until you max out your quota\n",
        "\n",
        "        for item in response['items']:\n",
        "            # index item for desired data features\n",
        "            comment = item['snippet']['topLevelComment']['snippet']['textDisplay']\n",
        "            comment_id = item['snippet']['topLevelComment']['id']\n",
        "            reply_count = item['snippet']['totalReplyCount']\n",
        "            like_count = item['snippet']['topLevelComment']['snippet']['likeCount']\n",
        "            authorurl = item['snippet']['topLevelComment']['snippet']['authorChannelUrl']\n",
        "            authorname = item['snippet']['topLevelComment']['snippet']['authorDisplayName']\n",
        "            date = item['snippet']['topLevelComment']['snippet']['publishedAt']\n",
        "            totalReplyCount = item['snippet']['totalReplyCount']\n",
        "\n",
        "            # append to lists\n",
        "            comments.append(comment)\n",
        "            commentsId.append(comment_id)\n",
        "            repliesCount.append(reply_count)\n",
        "            likesCount.append(like_count)\n",
        "            authorurls.append(authorurl)\n",
        "            authornames.append(authorname)\n",
        "            dates.append(date)\n",
        "            totalReplyCounts.append(totalReplyCount)\n",
        "\n",
        "        try:\n",
        "            if 'nextPageToken' in response:\n",
        "                response = service.commentThreads().list(\n",
        "                    part=part,\n",
        "                    maxResults=maxResults,\n",
        "                    textFormat=textFormat,\n",
        "                    order=order,\n",
        "                    pageToken=response['nextPageToken']\n",
        "                ).execute()\n",
        "            else:\n",
        "                break\n",
        "        except: break\n",
        "\n",
        "    #9 return our data of interest\n",
        "    return {\n",
        "        'comment': comments,\n",
        "        'comment_id': commentsId,\n",
        "        'author_url': authorurls,\n",
        "        'author_name': authornames,\n",
        "        'reply_count' : repliesCount,\n",
        "        'like_count' : likesCount,\n",
        "        'date': dates,\n",
        "        'total_reply_counts': totalReplyCounts\n",
        "    }"
      ],
      "metadata": {
        "id": "FMrqTQn7mTL7"
      },
      "execution_count": null,
      "outputs": []
    },
    {
      "cell_type": "code",
      "source": [
        "GOT_comments = get_comments()\n",
        "df = pd.DataFrame(GOT_comments)\n",
        "print(df.shape)"
      ],
      "metadata": {
        "colab": {
          "base_uri": "https://localhost:8080/"
        },
        "id": "l7mYF0sPt7zm",
        "outputId": "e3c86ca0-e3cf-4021-db98-e4296ac9722f"
      },
      "execution_count": null,
      "outputs": [
        {
          "output_type": "stream",
          "name": "stdout",
          "text": [
            "(100, 8)\n"
          ]
        }
      ]
    },
    {
      "cell_type": "code",
      "source": [
        "df.head(5)"
      ],
      "metadata": {
        "colab": {
          "base_uri": "https://localhost:8080/",
          "height": 1000
        },
        "id": "KNKAc1nkvjUl",
        "outputId": "9712193f-e419-410f-c9b7-0a4227270115"
      },
      "execution_count": null,
      "outputs": [
        {
          "output_type": "execute_result",
          "data": {
            "text/html": [
              "\n",
              "  <div id=\"df-ea6ebfb0-d545-43a3-ba17-5cd5093e8b92\">\n",
              "    <div class=\"colab-df-container\">\n",
              "      <div>\n",
              "<style scoped>\n",
              "    .dataframe tbody tr th:only-of-type {\n",
              "        vertical-align: middle;\n",
              "    }\n",
              "\n",
              "    .dataframe tbody tr th {\n",
              "        vertical-align: top;\n",
              "    }\n",
              "\n",
              "    .dataframe thead th {\n",
              "        text-align: right;\n",
              "    }\n",
              "</style>\n",
              "<table border=\"1\" class=\"dataframe\">\n",
              "  <thead>\n",
              "    <tr style=\"text-align: right;\">\n",
              "      <th></th>\n",
              "      <th>comment</th>\n",
              "      <th>comment_id</th>\n",
              "      <th>author_url</th>\n",
              "      <th>author_name</th>\n",
              "      <th>reply_count</th>\n",
              "      <th>like_count</th>\n",
              "      <th>date</th>\n",
              "      <th>total_reply_counts</th>\n",
              "    </tr>\n",
              "  </thead>\n",
              "  <tbody>\n",
              "    <tr>\n",
              "      <th>0</th>\n",
              "      <td>Ur the most optimistic person in the universe and if you're piss Ed it means something</td>\n",
              "      <td>Ugylute2Ab6mA0G2cSF4AaABAg</td>\n",
              "      <td>http://www.youtube.com/channel/UCr8U7Y4Y4sBbrLCWrW7cbaQ</td>\n",
              "      <td>HJRC_0823</td>\n",
              "      <td>1</td>\n",
              "      <td>0</td>\n",
              "      <td>2022-02-08T07:52:58Z</td>\n",
              "      <td>1</td>\n",
              "    </tr>\n",
              "    <tr>\n",
              "      <th>1</th>\n",
              "      <td>It wasn't just the direction that plot moved, did you also note how the dialog stopped including poetic and thoughtful lines and how Varys and Tyrion's wit and intelligence dropped from magnficant to average dunderhead</td>\n",
              "      <td>UgyU8Y348xtxK5_LlGZ4AaABAg</td>\n",
              "      <td>http://www.youtube.com/channel/UCDbXCvRxqXdrPcaV-mwxpnQ</td>\n",
              "      <td>Furry Lovebear</td>\n",
              "      <td>0</td>\n",
              "      <td>0</td>\n",
              "      <td>2022-01-25T22:23:47Z</td>\n",
              "      <td>0</td>\n",
              "    </tr>\n",
              "    <tr>\n",
              "      <th>2</th>\n",
              "      <td>Lazy writing towards the end.</td>\n",
              "      <td>UgxNEHssvL6RlJ9KQex4AaABAg</td>\n",
              "      <td>http://www.youtube.com/channel/UCzL_W1HNv69xdPSI2_LgLXQ</td>\n",
              "      <td>Charles Comeaux jr</td>\n",
              "      <td>0</td>\n",
              "      <td>0</td>\n",
              "      <td>2022-01-18T23:32:29Z</td>\n",
              "      <td>0</td>\n",
              "    </tr>\n",
              "    <tr>\n",
              "      <th>3</th>\n",
              "      <td>Cool</td>\n",
              "      <td>Ugy638KYY2rLNdovh2V4AaABAg</td>\n",
              "      <td>http://www.youtube.com/channel/UCKxf8_MDBHKpz5a-K10rAhw</td>\n",
              "      <td>Beavis Johnson</td>\n",
              "      <td>0</td>\n",
              "      <td>0</td>\n",
              "      <td>2022-01-12T05:51:08Z</td>\n",
              "      <td>0</td>\n",
              "    </tr>\n",
              "    <tr>\n",
              "      <th>4</th>\n",
              "      <td>The night king vs people was the main plot point they just never wanted to address it. Was the first scene in the show and the last in every season</td>\n",
              "      <td>UgzJeAc28XQ3jCENR9B4AaABAg</td>\n",
              "      <td>http://www.youtube.com/channel/UCFJqObk82C8YaemPFoBucUw</td>\n",
              "      <td>Luke Coupland</td>\n",
              "      <td>0</td>\n",
              "      <td>0</td>\n",
              "      <td>2022-01-08T02:09:21Z</td>\n",
              "      <td>0</td>\n",
              "    </tr>\n",
              "  </tbody>\n",
              "</table>\n",
              "</div>\n",
              "      <button class=\"colab-df-convert\" onclick=\"convertToInteractive('df-ea6ebfb0-d545-43a3-ba17-5cd5093e8b92')\"\n",
              "              title=\"Convert this dataframe to an interactive table.\"\n",
              "              style=\"display:none;\">\n",
              "        \n",
              "  <svg xmlns=\"http://www.w3.org/2000/svg\" height=\"24px\"viewBox=\"0 0 24 24\"\n",
              "       width=\"24px\">\n",
              "    <path d=\"M0 0h24v24H0V0z\" fill=\"none\"/>\n",
              "    <path d=\"M18.56 5.44l.94 2.06.94-2.06 2.06-.94-2.06-.94-.94-2.06-.94 2.06-2.06.94zm-11 1L8.5 8.5l.94-2.06 2.06-.94-2.06-.94L8.5 2.5l-.94 2.06-2.06.94zm10 10l.94 2.06.94-2.06 2.06-.94-2.06-.94-.94-2.06-.94 2.06-2.06.94z\"/><path d=\"M17.41 7.96l-1.37-1.37c-.4-.4-.92-.59-1.43-.59-.52 0-1.04.2-1.43.59L10.3 9.45l-7.72 7.72c-.78.78-.78 2.05 0 2.83L4 21.41c.39.39.9.59 1.41.59.51 0 1.02-.2 1.41-.59l7.78-7.78 2.81-2.81c.8-.78.8-2.07 0-2.86zM5.41 20L4 18.59l7.72-7.72 1.47 1.35L5.41 20z\"/>\n",
              "  </svg>\n",
              "      </button>\n",
              "      \n",
              "  <style>\n",
              "    .colab-df-container {\n",
              "      display:flex;\n",
              "      flex-wrap:wrap;\n",
              "      gap: 12px;\n",
              "    }\n",
              "\n",
              "    .colab-df-convert {\n",
              "      background-color: #E8F0FE;\n",
              "      border: none;\n",
              "      border-radius: 50%;\n",
              "      cursor: pointer;\n",
              "      display: none;\n",
              "      fill: #1967D2;\n",
              "      height: 32px;\n",
              "      padding: 0 0 0 0;\n",
              "      width: 32px;\n",
              "    }\n",
              "\n",
              "    .colab-df-convert:hover {\n",
              "      background-color: #E2EBFA;\n",
              "      box-shadow: 0px 1px 2px rgba(60, 64, 67, 0.3), 0px 1px 3px 1px rgba(60, 64, 67, 0.15);\n",
              "      fill: #174EA6;\n",
              "    }\n",
              "\n",
              "    [theme=dark] .colab-df-convert {\n",
              "      background-color: #3B4455;\n",
              "      fill: #D2E3FC;\n",
              "    }\n",
              "\n",
              "    [theme=dark] .colab-df-convert:hover {\n",
              "      background-color: #434B5C;\n",
              "      box-shadow: 0px 1px 3px 1px rgba(0, 0, 0, 0.15);\n",
              "      filter: drop-shadow(0px 1px 2px rgba(0, 0, 0, 0.3));\n",
              "      fill: #FFFFFF;\n",
              "    }\n",
              "  </style>\n",
              "\n",
              "      <script>\n",
              "        const buttonEl =\n",
              "          document.querySelector('#df-ea6ebfb0-d545-43a3-ba17-5cd5093e8b92 button.colab-df-convert');\n",
              "        buttonEl.style.display =\n",
              "          google.colab.kernel.accessAllowed ? 'block' : 'none';\n",
              "\n",
              "        async function convertToInteractive(key) {\n",
              "          const element = document.querySelector('#df-ea6ebfb0-d545-43a3-ba17-5cd5093e8b92');\n",
              "          const dataTable =\n",
              "            await google.colab.kernel.invokeFunction('convertToInteractive',\n",
              "                                                     [key], {});\n",
              "          if (!dataTable) return;\n",
              "\n",
              "          const docLinkHtml = 'Like what you see? Visit the ' +\n",
              "            '<a target=\"_blank\" href=https://colab.research.google.com/notebooks/data_table.ipynb>data table notebook</a>'\n",
              "            + ' to learn more about interactive tables.';\n",
              "          element.innerHTML = '';\n",
              "          dataTable['output_type'] = 'display_data';\n",
              "          await google.colab.output.renderOutput(dataTable, element);\n",
              "          const docLink = document.createElement('div');\n",
              "          docLink.innerHTML = docLinkHtml;\n",
              "          element.appendChild(docLink);\n",
              "        }\n",
              "      </script>\n",
              "    </div>\n",
              "  </div>\n",
              "  "
            ],
            "text/plain": [
              "                                                                                                                                                                                                                      comment  ... total_reply_counts\n",
              "0                                                                                                                                      Ur the most optimistic person in the universe and if you're piss Ed it means something  ...                  1\n",
              "1  It wasn't just the direction that plot moved, did you also note how the dialog stopped including poetic and thoughtful lines and how Varys and Tyrion's wit and intelligence dropped from magnficant to average dunderhead  ...                  0\n",
              "2                                                                                                                                                                                               Lazy writing towards the end.  ...                  0\n",
              "3                                                                                                                                                                                                                        Cool  ...                  0\n",
              "4                                                                         The night king vs people was the main plot point they just never wanted to address it. Was the first scene in the show and the last in every season  ...                  0\n",
              "\n",
              "[5 rows x 8 columns]"
            ]
          },
          "metadata": {},
          "execution_count": 24
        }
      ]
    },
    {
      "cell_type": "code",
      "source": [
        "df.author_name.value_counts(), df.author_url.value_counts()"
      ],
      "metadata": {
        "colab": {
          "base_uri": "https://localhost:8080/"
        },
        "id": "E3KNLSFQ-29T",
        "outputId": "34891dc0-b28b-4cb3-ada3-f09f3ddb9e9b"
      },
      "execution_count": null,
      "outputs": [
        {
          "output_type": "execute_result",
          "data": {
            "text/plain": [
              "(Niraj Kathayat     3\n",
              " Gammermonk         2\n",
              " Tyler Anselmo      2\n",
              " Michael            2\n",
              " Furry Lovebear     1\n",
              "                   ..\n",
              " Daniel Krawczyk    1\n",
              " Rajaz Khan         1\n",
              " jp turchi          1\n",
              " Wellsigood         1\n",
              " Chris M            1\n",
              " Name: author_name, Length: 95, dtype: int64,\n",
              " http://www.youtube.com/channel/UCNHEQ6s95c5WWE7UDJJNwWQ    3\n",
              " http://www.youtube.com/channel/UCuUqw4CFUU2rCfT1AfxBBQQ    2\n",
              " http://www.youtube.com/channel/UCjl_1uDDSJaYgouhf3JJHbg    2\n",
              " http://www.youtube.com/channel/UCDbXCvRxqXdrPcaV-mwxpnQ    1\n",
              " http://www.youtube.com/channel/UCh9_WIsk4v-_VU_BrqYJV4Q    1\n",
              "                                                           ..\n",
              " http://www.youtube.com/channel/UCG9JqMvZCY6dgRYkUJZMQyw    1\n",
              " http://www.youtube.com/channel/UCKyUPqSSoserAxzKCRM7sAA    1\n",
              " http://www.youtube.com/channel/UCMCnoQKb9pYEpCfI1qO3GzA    1\n",
              " http://www.youtube.com/channel/UCBYjgxDJ6XyPP5GYQSb1FCg    1\n",
              " http://www.youtube.com/channel/UCwvqq1w9ffDhJkidZnrC5Hw    1\n",
              " Name: author_url, Length: 96, dtype: int64)"
            ]
          },
          "metadata": {},
          "execution_count": 10
        }
      ]
    },
    {
      "cell_type": "markdown",
      "source": [
        "Looks like we do not need the author_url column to uniquely identify the authors as the name column seem to do that on its own. Therefore, we can consider dropping author_url column."
      ],
      "metadata": {
        "id": "2fbpq7TZQ81h"
      }
    },
    {
      "cell_type": "code",
      "source": [
        "df.drop('author_url', axis=1, inplace=True)\n",
        "df.head(5)"
      ],
      "metadata": {
        "colab": {
          "base_uri": "https://localhost:8080/",
          "height": 562
        },
        "id": "hd2kOIQ-QuYV",
        "outputId": "2515d305-2105-4ac7-9d79-8aed78bad55e"
      },
      "execution_count": null,
      "outputs": [
        {
          "output_type": "execute_result",
          "data": {
            "text/html": [
              "\n",
              "  <div id=\"df-f6453a29-33f8-4e71-848d-21e6fa1499f0\">\n",
              "    <div class=\"colab-df-container\">\n",
              "      <div>\n",
              "<style scoped>\n",
              "    .dataframe tbody tr th:only-of-type {\n",
              "        vertical-align: middle;\n",
              "    }\n",
              "\n",
              "    .dataframe tbody tr th {\n",
              "        vertical-align: top;\n",
              "    }\n",
              "\n",
              "    .dataframe thead th {\n",
              "        text-align: right;\n",
              "    }\n",
              "</style>\n",
              "<table border=\"1\" class=\"dataframe\">\n",
              "  <thead>\n",
              "    <tr style=\"text-align: right;\">\n",
              "      <th></th>\n",
              "      <th>comment</th>\n",
              "      <th>comment_id</th>\n",
              "      <th>author_name</th>\n",
              "      <th>reply_count</th>\n",
              "      <th>like_count</th>\n",
              "      <th>date</th>\n",
              "      <th>total_reply_counts</th>\n",
              "    </tr>\n",
              "  </thead>\n",
              "  <tbody>\n",
              "    <tr>\n",
              "      <th>0</th>\n",
              "      <td>Ur the most optimistic person in the universe and if you're piss Ed it means something</td>\n",
              "      <td>Ugylute2Ab6mA0G2cSF4AaABAg</td>\n",
              "      <td>HJRC_0823</td>\n",
              "      <td>1</td>\n",
              "      <td>0</td>\n",
              "      <td>2022-02-08T07:52:58Z</td>\n",
              "      <td>1</td>\n",
              "    </tr>\n",
              "    <tr>\n",
              "      <th>1</th>\n",
              "      <td>It wasn't just the direction that plot moved, did you also note how the dialog stopped including poetic and thoughtful lines and how Varys and Tyrion's wit and intelligence dropped from magnficant to average dunderhead</td>\n",
              "      <td>UgyU8Y348xtxK5_LlGZ4AaABAg</td>\n",
              "      <td>Furry Lovebear</td>\n",
              "      <td>0</td>\n",
              "      <td>0</td>\n",
              "      <td>2022-01-25T22:23:47Z</td>\n",
              "      <td>0</td>\n",
              "    </tr>\n",
              "    <tr>\n",
              "      <th>2</th>\n",
              "      <td>Lazy writing towards the end.</td>\n",
              "      <td>UgxNEHssvL6RlJ9KQex4AaABAg</td>\n",
              "      <td>Charles Comeaux jr</td>\n",
              "      <td>0</td>\n",
              "      <td>0</td>\n",
              "      <td>2022-01-18T23:32:29Z</td>\n",
              "      <td>0</td>\n",
              "    </tr>\n",
              "    <tr>\n",
              "      <th>3</th>\n",
              "      <td>Cool</td>\n",
              "      <td>Ugy638KYY2rLNdovh2V4AaABAg</td>\n",
              "      <td>Beavis Johnson</td>\n",
              "      <td>0</td>\n",
              "      <td>0</td>\n",
              "      <td>2022-01-12T05:51:08Z</td>\n",
              "      <td>0</td>\n",
              "    </tr>\n",
              "    <tr>\n",
              "      <th>4</th>\n",
              "      <td>The night king vs people was the main plot point they just never wanted to address it. Was the first scene in the show and the last in every season</td>\n",
              "      <td>UgzJeAc28XQ3jCENR9B4AaABAg</td>\n",
              "      <td>Luke Coupland</td>\n",
              "      <td>0</td>\n",
              "      <td>0</td>\n",
              "      <td>2022-01-08T02:09:21Z</td>\n",
              "      <td>0</td>\n",
              "    </tr>\n",
              "  </tbody>\n",
              "</table>\n",
              "</div>\n",
              "      <button class=\"colab-df-convert\" onclick=\"convertToInteractive('df-f6453a29-33f8-4e71-848d-21e6fa1499f0')\"\n",
              "              title=\"Convert this dataframe to an interactive table.\"\n",
              "              style=\"display:none;\">\n",
              "        \n",
              "  <svg xmlns=\"http://www.w3.org/2000/svg\" height=\"24px\"viewBox=\"0 0 24 24\"\n",
              "       width=\"24px\">\n",
              "    <path d=\"M0 0h24v24H0V0z\" fill=\"none\"/>\n",
              "    <path d=\"M18.56 5.44l.94 2.06.94-2.06 2.06-.94-2.06-.94-.94-2.06-.94 2.06-2.06.94zm-11 1L8.5 8.5l.94-2.06 2.06-.94-2.06-.94L8.5 2.5l-.94 2.06-2.06.94zm10 10l.94 2.06.94-2.06 2.06-.94-2.06-.94-.94-2.06-.94 2.06-2.06.94z\"/><path d=\"M17.41 7.96l-1.37-1.37c-.4-.4-.92-.59-1.43-.59-.52 0-1.04.2-1.43.59L10.3 9.45l-7.72 7.72c-.78.78-.78 2.05 0 2.83L4 21.41c.39.39.9.59 1.41.59.51 0 1.02-.2 1.41-.59l7.78-7.78 2.81-2.81c.8-.78.8-2.07 0-2.86zM5.41 20L4 18.59l7.72-7.72 1.47 1.35L5.41 20z\"/>\n",
              "  </svg>\n",
              "      </button>\n",
              "      \n",
              "  <style>\n",
              "    .colab-df-container {\n",
              "      display:flex;\n",
              "      flex-wrap:wrap;\n",
              "      gap: 12px;\n",
              "    }\n",
              "\n",
              "    .colab-df-convert {\n",
              "      background-color: #E8F0FE;\n",
              "      border: none;\n",
              "      border-radius: 50%;\n",
              "      cursor: pointer;\n",
              "      display: none;\n",
              "      fill: #1967D2;\n",
              "      height: 32px;\n",
              "      padding: 0 0 0 0;\n",
              "      width: 32px;\n",
              "    }\n",
              "\n",
              "    .colab-df-convert:hover {\n",
              "      background-color: #E2EBFA;\n",
              "      box-shadow: 0px 1px 2px rgba(60, 64, 67, 0.3), 0px 1px 3px 1px rgba(60, 64, 67, 0.15);\n",
              "      fill: #174EA6;\n",
              "    }\n",
              "\n",
              "    [theme=dark] .colab-df-convert {\n",
              "      background-color: #3B4455;\n",
              "      fill: #D2E3FC;\n",
              "    }\n",
              "\n",
              "    [theme=dark] .colab-df-convert:hover {\n",
              "      background-color: #434B5C;\n",
              "      box-shadow: 0px 1px 3px 1px rgba(0, 0, 0, 0.15);\n",
              "      filter: drop-shadow(0px 1px 2px rgba(0, 0, 0, 0.3));\n",
              "      fill: #FFFFFF;\n",
              "    }\n",
              "  </style>\n",
              "\n",
              "      <script>\n",
              "        const buttonEl =\n",
              "          document.querySelector('#df-f6453a29-33f8-4e71-848d-21e6fa1499f0 button.colab-df-convert');\n",
              "        buttonEl.style.display =\n",
              "          google.colab.kernel.accessAllowed ? 'block' : 'none';\n",
              "\n",
              "        async function convertToInteractive(key) {\n",
              "          const element = document.querySelector('#df-f6453a29-33f8-4e71-848d-21e6fa1499f0');\n",
              "          const dataTable =\n",
              "            await google.colab.kernel.invokeFunction('convertToInteractive',\n",
              "                                                     [key], {});\n",
              "          if (!dataTable) return;\n",
              "\n",
              "          const docLinkHtml = 'Like what you see? Visit the ' +\n",
              "            '<a target=\"_blank\" href=https://colab.research.google.com/notebooks/data_table.ipynb>data table notebook</a>'\n",
              "            + ' to learn more about interactive tables.';\n",
              "          element.innerHTML = '';\n",
              "          dataTable['output_type'] = 'display_data';\n",
              "          await google.colab.output.renderOutput(dataTable, element);\n",
              "          const docLink = document.createElement('div');\n",
              "          docLink.innerHTML = docLinkHtml;\n",
              "          element.appendChild(docLink);\n",
              "        }\n",
              "      </script>\n",
              "    </div>\n",
              "  </div>\n",
              "  "
            ],
            "text/plain": [
              "                                                                                                                                                                                                                      comment  ... total_reply_counts\n",
              "0                                                                                                                                      Ur the most optimistic person in the universe and if you're piss Ed it means something  ...                  1\n",
              "1  It wasn't just the direction that plot moved, did you also note how the dialog stopped including poetic and thoughtful lines and how Varys and Tyrion's wit and intelligence dropped from magnficant to average dunderhead  ...                  0\n",
              "2                                                                                                                                                                                               Lazy writing towards the end.  ...                  0\n",
              "3                                                                                                                                                                                                                        Cool  ...                  0\n",
              "4                                                                         The night king vs people was the main plot point they just never wanted to address it. Was the first scene in the show and the last in every season  ...                  0\n",
              "\n",
              "[5 rows x 7 columns]"
            ]
          },
          "metadata": {},
          "execution_count": 25
        }
      ]
    },
    {
      "cell_type": "code",
      "source": [
        "df.shape"
      ],
      "metadata": {
        "colab": {
          "base_uri": "https://localhost:8080/"
        },
        "id": "XAn5kbefR1iB",
        "outputId": "8e1dbec9-c3f6-4c82-f86d-35fc16392273"
      },
      "execution_count": null,
      "outputs": [
        {
          "output_type": "execute_result",
          "data": {
            "text/plain": [
              "(100, 7)"
            ]
          },
          "metadata": {},
          "execution_count": 32
        }
      ]
    },
    {
      "cell_type": "code",
      "source": [
        "# saving the csv file\n",
        "df.to_csv('./got_comments.csv')"
      ],
      "metadata": {
        "id": "t6Xmvq5qfHBN"
      },
      "execution_count": null,
      "outputs": []
    },
    {
      "cell_type": "code",
      "source": [
        "from google.colab import drive\n",
        "drive.mount('/content/drive')"
      ],
      "metadata": {
        "id": "RiXzvyGXhTpw"
      },
      "execution_count": null,
      "outputs": []
    }
  ]
}